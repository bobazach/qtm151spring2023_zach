{
 "cells": [
  {
   "attachments": {},
   "cell_type": "markdown",
   "metadata": {},
   "source": [
    "# <span style=\"color:darkblue\"> Lecture 22 - Subsetting and Pivoting  </span>\n",
    "\n",
    "<font size = \"5\">\n"
   ]
  },
  {
   "attachments": {},
   "cell_type": "markdown",
   "metadata": {},
   "source": [
    "<font size = \"5\">\n",
    "\n",
    "In the previous class ...\n",
    "\n",
    "- ... we introduced parsing and\n",
    "- ... data manipulation with time\n",
    "\n",
    "In this class we will ...\n",
    "\n",
    "- Plot multiple series\n",
    "- Compute growth rates\n",
    "- Use merge/pivot to change layout of data"
   ]
  },
  {
   "attachments": {},
   "cell_type": "markdown",
   "metadata": {},
   "source": [
    "# <span style=\"color:darkblue\"> I. Import Libraries and Data </span>"
   ]
  },
  {
   "cell_type": "markdown",
   "metadata": {},
   "source": [
    "<font size = \"5\">\n",
    "\n",
    "Import libraries"
   ]
  },
  {
   "cell_type": "code",
   "execution_count": 1,
   "metadata": {},
   "outputs": [],
   "source": [
    "# \"pandas\" processes datasets\n",
    "# \"maplotlib.pyplot\" generates graphs\n",
    "\n",
    "import pandas as pd\n",
    "import matplotlib.pyplot as plt\n"
   ]
  },
  {
   "attachments": {},
   "cell_type": "markdown",
   "metadata": {},
   "source": [
    "<font size = \"5\">\n",
    "\n",
    "Import data"
   ]
  },
  {
   "cell_type": "code",
   "execution_count": 2,
   "metadata": {},
   "outputs": [],
   "source": [
    "financial      = pd.read_csv(\"data_raw/financial.csv\")"
   ]
  },
  {
   "attachments": {},
   "cell_type": "markdown",
   "metadata": {},
   "source": [
    "<font size = \"5\">\n",
    "\n",
    "Parse data and sort dataset"
   ]
  },
  {
   "cell_type": "code",
   "execution_count": 3,
   "metadata": {},
   "outputs": [],
   "source": [
    "financial[\"date\"] = pd.to_datetime(financial[\"date_str\"])\n",
    "financial         = financial.sort_values(\"date\",ascending = True)"
   ]
  },
  {
   "attachments": {},
   "cell_type": "markdown",
   "metadata": {},
   "source": [
    "<font size = \"5\">\n",
    "\n",
    "Plot multiple columns"
   ]
  },
  {
   "cell_type": "code",
   "execution_count": 8,
   "metadata": {},
   "outputs": [
    {
     "data": {
      "text/plain": [
       "Text(0, 0.5, 'Value of Index Funds')"
      ]
     },
     "execution_count": 8,
     "metadata": {},
     "output_type": "execute_result"
    },
    {
     "data": {
      "image/png": "[encoded data removed]",
      "text/plain": [
       "<Figure size 432x288 with 1 Axes>"
      ]
     },
     "metadata": {
      "needs_background": "light"
     },
     "output_type": "display_data"
    }
   ],
   "source": [
    "# Enter the x-axis column and y-axis columns you \n",
    "# wish to include. Specify the x-axis column with \"set_index()\"\n",
    "# This applies to any line plot, with or without dates\n",
    "# The legend is the box with the name of the lines\n",
    "# If you drop the \".legend()\" command this will assign\n",
    "# the default column names to the legend.\n",
    "\n",
    "\n",
    "(financial[[\"date\",\"sp500\",\"djia\"]]\n",
    "    .set_index(\"date\").plot())\n",
    "plt.xlabel(\"Time\")\n",
    "plt.ylabel(\"Value of Index Funds\")\n",
    "# plt.legend([\"S&P 500\",\"Dow Jones\"])\n"
   ]
  },
  {
   "attachments": {},
   "cell_type": "markdown",
   "metadata": {},
   "source": [
    "<font size = \"5\">\n",
    "\n",
    "Remarks ...\n",
    "\n",
    "- The S\\&P 500 and Dow Jones have different units.\n",
    "- More sensible to compare their growth rate!\n"
   ]
  },
  {
   "attachments": {},
   "cell_type": "markdown",
   "metadata": {},
   "source": [
    "# <span style=\"color:darkblue\"> II. Time Difference/Growth </span>"
   ]
  },
  {
   "attachments": {},
   "cell_type": "markdown",
   "metadata": {},
   "source": [
    "<font size = \"5\">\n",
    "\n",
    "Change between periods"
   ]
  },
  {
   "cell_type": "code",
   "execution_count": 9,
   "metadata": {},
   "outputs": [
    {
     "data": {
      "text/html": [
       "<div>\n",
       "<style scoped>\n",
       "    .dataframe tbody tr th:only-of-type {\n",
       "        vertical-align: middle;\n",
       "    }\n",
       "\n",
       "    .dataframe tbody tr th {\n",
       "        vertical-align: top;\n",
       "    }\n",
       "\n",
       "    .dataframe thead th {\n",
       "        text-align: right;\n",
       "    }\n",
       "</style>\n",
       "<table border=\"1\" class=\"dataframe\">\n",
       "  <thead>\n",
       "    <tr style=\"text-align: right;\">\n",
       "      <th></th>\n",
       "      <th>sp500</th>\n",
       "      <th>diff_sp500</th>\n",
       "    </tr>\n",
       "  </thead>\n",
       "  <tbody>\n",
       "    <tr>\n",
       "      <th>0</th>\n",
       "      <td>2644.69</td>\n",
       "      <td>NaN</td>\n",
       "    </tr>\n",
       "    <tr>\n",
       "      <th>1</th>\n",
       "      <td>2662.84</td>\n",
       "      <td>18.15</td>\n",
       "    </tr>\n",
       "    <tr>\n",
       "      <th>2</th>\n",
       "      <td>2604.47</td>\n",
       "      <td>-58.37</td>\n",
       "    </tr>\n",
       "    <tr>\n",
       "      <th>3</th>\n",
       "      <td>2613.16</td>\n",
       "      <td>8.69</td>\n",
       "    </tr>\n",
       "    <tr>\n",
       "      <th>4</th>\n",
       "      <td>2656.87</td>\n",
       "      <td>43.71</td>\n",
       "    </tr>\n",
       "    <tr>\n",
       "      <th>...</th>\n",
       "      <td>...</td>\n",
       "      <td>...</td>\n",
       "    </tr>\n",
       "    <tr>\n",
       "      <th>1300</th>\n",
       "      <td>4027.81</td>\n",
       "      <td>56.54</td>\n",
       "    </tr>\n",
       "    <tr>\n",
       "      <th>1301</th>\n",
       "      <td>4050.83</td>\n",
       "      <td>23.02</td>\n",
       "    </tr>\n",
       "    <tr>\n",
       "      <th>1302</th>\n",
       "      <td>4109.31</td>\n",
       "      <td>58.48</td>\n",
       "    </tr>\n",
       "    <tr>\n",
       "      <th>1303</th>\n",
       "      <td>4124.51</td>\n",
       "      <td>15.20</td>\n",
       "    </tr>\n",
       "    <tr>\n",
       "      <th>1304</th>\n",
       "      <td>4100.60</td>\n",
       "      <td>-23.91</td>\n",
       "    </tr>\n",
       "  </tbody>\n",
       "</table>\n",
       "<p>1305 rows × 2 columns</p>\n",
       "</div>"
      ],
      "text/plain": [
       "        sp500  diff_sp500\n",
       "0     2644.69         NaN\n",
       "1     2662.84       18.15\n",
       "2     2604.47      -58.37\n",
       "3     2613.16        8.69\n",
       "4     2656.87       43.71\n",
       "...       ...         ...\n",
       "1300  4027.81       56.54\n",
       "1301  4050.83       23.02\n",
       "1302  4109.31       58.48\n",
       "1303  4124.51       15.20\n",
       "1304  4100.60      -23.91\n",
       "\n",
       "[1305 rows x 2 columns]"
      ]
     },
     "metadata": {},
     "output_type": "display_data"
    }
   ],
   "source": [
    "# First sort columns by date. The second computes the\n",
    "# differences in \"sp500\" between each row and the one before it\n",
    "# By convention, the first row gets a missing value because\n",
    "# there is nothing to compare. For this to work, it's important\n",
    "# that the dataset is sorted.\n",
    "\n",
    "financial[\"diff_sp500\"] = financial[\"sp500\"].diff()\n",
    "\n",
    "display(financial[[\"sp500\",\"diff_sp500\" ]])\n"
   ]
  },
  {
   "attachments": {},
   "cell_type": "markdown",
   "metadata": {},
   "source": [
    "<font size = \"5\">\n",
    "\n",
    "Compute lag + percentage growth"
   ]
  },
  {
   "cell_type": "code",
   "execution_count": 10,
   "metadata": {},
   "outputs": [
    {
     "data": {
      "text/html": [
       "<div>\n",
       "<style scoped>\n",
       "    .dataframe tbody tr th:only-of-type {\n",
       "        vertical-align: middle;\n",
       "    }\n",
       "\n",
       "    .dataframe tbody tr th {\n",
       "        vertical-align: top;\n",
       "    }\n",
       "\n",
       "    .dataframe thead th {\n",
       "        text-align: right;\n",
       "    }\n",
       "</style>\n",
       "<table border=\"1\" class=\"dataframe\">\n",
       "  <thead>\n",
       "    <tr style=\"text-align: right;\">\n",
       "      <th></th>\n",
       "      <th>sp500</th>\n",
       "      <th>lag_sp500</th>\n",
       "      <th>diff_sp500</th>\n",
       "      <th>growth_sp500</th>\n",
       "    </tr>\n",
       "  </thead>\n",
       "  <tbody>\n",
       "    <tr>\n",
       "      <th>0</th>\n",
       "      <td>2644.69</td>\n",
       "      <td>NaN</td>\n",
       "      <td>NaN</td>\n",
       "      <td>NaN</td>\n",
       "    </tr>\n",
       "    <tr>\n",
       "      <th>1</th>\n",
       "      <td>2662.84</td>\n",
       "      <td>2644.69</td>\n",
       "      <td>18.15</td>\n",
       "      <td>0.686281</td>\n",
       "    </tr>\n",
       "    <tr>\n",
       "      <th>2</th>\n",
       "      <td>2604.47</td>\n",
       "      <td>2662.84</td>\n",
       "      <td>-58.37</td>\n",
       "      <td>-2.192021</td>\n",
       "    </tr>\n",
       "    <tr>\n",
       "      <th>3</th>\n",
       "      <td>2613.16</td>\n",
       "      <td>2604.47</td>\n",
       "      <td>8.69</td>\n",
       "      <td>0.333657</td>\n",
       "    </tr>\n",
       "    <tr>\n",
       "      <th>4</th>\n",
       "      <td>2656.87</td>\n",
       "      <td>2613.16</td>\n",
       "      <td>43.71</td>\n",
       "      <td>1.672687</td>\n",
       "    </tr>\n",
       "    <tr>\n",
       "      <th>...</th>\n",
       "      <td>...</td>\n",
       "      <td>...</td>\n",
       "      <td>...</td>\n",
       "      <td>...</td>\n",
       "    </tr>\n",
       "    <tr>\n",
       "      <th>1300</th>\n",
       "      <td>4027.81</td>\n",
       "      <td>3971.27</td>\n",
       "      <td>56.54</td>\n",
       "      <td>1.423726</td>\n",
       "    </tr>\n",
       "    <tr>\n",
       "      <th>1301</th>\n",
       "      <td>4050.83</td>\n",
       "      <td>4027.81</td>\n",
       "      <td>23.02</td>\n",
       "      <td>0.571526</td>\n",
       "    </tr>\n",
       "    <tr>\n",
       "      <th>1302</th>\n",
       "      <td>4109.31</td>\n",
       "      <td>4050.83</td>\n",
       "      <td>58.48</td>\n",
       "      <td>1.443655</td>\n",
       "    </tr>\n",
       "    <tr>\n",
       "      <th>1303</th>\n",
       "      <td>4124.51</td>\n",
       "      <td>4109.31</td>\n",
       "      <td>15.20</td>\n",
       "      <td>0.369892</td>\n",
       "    </tr>\n",
       "    <tr>\n",
       "      <th>1304</th>\n",
       "      <td>4100.60</td>\n",
       "      <td>4124.51</td>\n",
       "      <td>-23.91</td>\n",
       "      <td>-0.579705</td>\n",
       "    </tr>\n",
       "  </tbody>\n",
       "</table>\n",
       "<p>1305 rows × 4 columns</p>\n",
       "</div>"
      ],
      "text/plain": [
       "        sp500  lag_sp500  diff_sp500  growth_sp500\n",
       "0     2644.69        NaN         NaN           NaN\n",
       "1     2662.84    2644.69       18.15      0.686281\n",
       "2     2604.47    2662.84      -58.37     -2.192021\n",
       "3     2613.16    2604.47        8.69      0.333657\n",
       "4     2656.87    2613.16       43.71      1.672687\n",
       "...       ...        ...         ...           ...\n",
       "1300  4027.81    3971.27       56.54      1.423726\n",
       "1301  4050.83    4027.81       23.02      0.571526\n",
       "1302  4109.31    4050.83       58.48      1.443655\n",
       "1303  4124.51    4109.31       15.20      0.369892\n",
       "1304  4100.60    4124.51      -23.91     -0.579705\n",
       "\n",
       "[1305 rows x 4 columns]"
      ]
     },
     "metadata": {},
     "output_type": "display_data"
    }
   ],
   "source": [
    "# \".shif(1)\" compute a new column with the value of \"sp500\"\n",
    "# one period before. By convention the first column is assigned\n",
    "# a missing value\n",
    "# We can combine \".diff()\" and \".shift()\" to compute growth rates\n",
    "\n",
    "financial[\"lag_sp500\"]    = financial[\"sp500\"].shift(1)\n",
    "financial[\"growth_sp500\"] = financial[\"diff_sp500\"]* 100/financial[\"lag_sp500\"]\n",
    "\n",
    "display(financial[[\"sp500\",\"lag_sp500\",\"diff_sp500\",\"growth_sp500\"]])\n"
   ]
  },
  {
   "attachments": {},
   "cell_type": "markdown",
   "metadata": {},
   "source": [
    "<font size = \"5\">\n",
    "\n",
    "Time between dates"
   ]
  },
  {
   "cell_type": "code",
   "execution_count": 12,
   "metadata": {},
   "outputs": [
    {
     "data": {
      "text/html": [
       "<div>\n",
       "<style scoped>\n",
       "    .dataframe tbody tr th:only-of-type {\n",
       "        vertical-align: middle;\n",
       "    }\n",
       "\n",
       "    .dataframe tbody tr th {\n",
       "        vertical-align: top;\n",
       "    }\n",
       "\n",
       "    .dataframe thead th {\n",
       "        text-align: right;\n",
       "    }\n",
       "</style>\n",
       "<table border=\"1\" class=\"dataframe\">\n",
       "  <thead>\n",
       "    <tr style=\"text-align: right;\">\n",
       "      <th></th>\n",
       "      <th>Unnamed: 0</th>\n",
       "      <th>date_str</th>\n",
       "      <th>sp500</th>\n",
       "      <th>djia</th>\n",
       "      <th>date_ex1</th>\n",
       "      <th>date_ex2</th>\n",
       "      <th>date_ex3</th>\n",
       "      <th>date</th>\n",
       "      <th>diff_sp500</th>\n",
       "      <th>lag_sp500</th>\n",
       "      <th>growth_sp500</th>\n",
       "      <th>diff_date</th>\n",
       "      <th>count_days</th>\n",
       "    </tr>\n",
       "  </thead>\n",
       "  <tbody>\n",
       "    <tr>\n",
       "      <th>0</th>\n",
       "      <td>0</td>\n",
       "      <td>2018-04-04</td>\n",
       "      <td>2644.69</td>\n",
       "      <td>24264.30</td>\n",
       "      <td>April 04 2018</td>\n",
       "      <td>Wednesday, 2018-04-04</td>\n",
       "      <td>Apr-04, 18</td>\n",
       "      <td>2018-04-04</td>\n",
       "      <td>NaN</td>\n",
       "      <td>NaN</td>\n",
       "      <td>NaN</td>\n",
       "      <td>NaT</td>\n",
       "      <td>NaN</td>\n",
       "    </tr>\n",
       "    <tr>\n",
       "      <th>1</th>\n",
       "      <td>1</td>\n",
       "      <td>2018-04-05</td>\n",
       "      <td>2662.84</td>\n",
       "      <td>24505.22</td>\n",
       "      <td>April 05 2018</td>\n",
       "      <td>Thursday, 2018-04-05</td>\n",
       "      <td>Apr-05, 18</td>\n",
       "      <td>2018-04-05</td>\n",
       "      <td>18.15</td>\n",
       "      <td>2644.69</td>\n",
       "      <td>0.686281</td>\n",
       "      <td>1 days</td>\n",
       "      <td>1.0</td>\n",
       "    </tr>\n",
       "    <tr>\n",
       "      <th>2</th>\n",
       "      <td>2</td>\n",
       "      <td>2018-04-06</td>\n",
       "      <td>2604.47</td>\n",
       "      <td>23932.76</td>\n",
       "      <td>April 06 2018</td>\n",
       "      <td>Friday, 2018-04-06</td>\n",
       "      <td>Apr-06, 18</td>\n",
       "      <td>2018-04-06</td>\n",
       "      <td>-58.37</td>\n",
       "      <td>2662.84</td>\n",
       "      <td>-2.192021</td>\n",
       "      <td>1 days</td>\n",
       "      <td>1.0</td>\n",
       "    </tr>\n",
       "    <tr>\n",
       "      <th>3</th>\n",
       "      <td>3</td>\n",
       "      <td>2018-04-09</td>\n",
       "      <td>2613.16</td>\n",
       "      <td>23979.10</td>\n",
       "      <td>April 09 2018</td>\n",
       "      <td>Monday, 2018-04-09</td>\n",
       "      <td>Apr-09, 18</td>\n",
       "      <td>2018-04-09</td>\n",
       "      <td>8.69</td>\n",
       "      <td>2604.47</td>\n",
       "      <td>0.333657</td>\n",
       "      <td>3 days</td>\n",
       "      <td>3.0</td>\n",
       "    </tr>\n",
       "    <tr>\n",
       "      <th>4</th>\n",
       "      <td>4</td>\n",
       "      <td>2018-04-10</td>\n",
       "      <td>2656.87</td>\n",
       "      <td>24408.00</td>\n",
       "      <td>April 10 2018</td>\n",
       "      <td>Tuesday, 2018-04-10</td>\n",
       "      <td>Apr-10, 18</td>\n",
       "      <td>2018-04-10</td>\n",
       "      <td>43.71</td>\n",
       "      <td>2613.16</td>\n",
       "      <td>1.672687</td>\n",
       "      <td>1 days</td>\n",
       "      <td>1.0</td>\n",
       "    </tr>\n",
       "    <tr>\n",
       "      <th>...</th>\n",
       "      <td>...</td>\n",
       "      <td>...</td>\n",
       "      <td>...</td>\n",
       "      <td>...</td>\n",
       "      <td>...</td>\n",
       "      <td>...</td>\n",
       "      <td>...</td>\n",
       "      <td>...</td>\n",
       "      <td>...</td>\n",
       "      <td>...</td>\n",
       "      <td>...</td>\n",
       "      <td>...</td>\n",
       "      <td>...</td>\n",
       "    </tr>\n",
       "    <tr>\n",
       "      <th>1300</th>\n",
       "      <td>1300</td>\n",
       "      <td>2023-03-29</td>\n",
       "      <td>4027.81</td>\n",
       "      <td>32717.60</td>\n",
       "      <td>March 29 2023</td>\n",
       "      <td>Wednesday, 2023-03-29</td>\n",
       "      <td>Mar-29, 23</td>\n",
       "      <td>2023-03-29</td>\n",
       "      <td>56.54</td>\n",
       "      <td>3971.27</td>\n",
       "      <td>1.423726</td>\n",
       "      <td>1 days</td>\n",
       "      <td>1.0</td>\n",
       "    </tr>\n",
       "    <tr>\n",
       "      <th>1301</th>\n",
       "      <td>1301</td>\n",
       "      <td>2023-03-30</td>\n",
       "      <td>4050.83</td>\n",
       "      <td>32859.03</td>\n",
       "      <td>March 30 2023</td>\n",
       "      <td>Thursday, 2023-03-30</td>\n",
       "      <td>Mar-30, 23</td>\n",
       "      <td>2023-03-30</td>\n",
       "      <td>23.02</td>\n",
       "      <td>4027.81</td>\n",
       "      <td>0.571526</td>\n",
       "      <td>1 days</td>\n",
       "      <td>1.0</td>\n",
       "    </tr>\n",
       "    <tr>\n",
       "      <th>1302</th>\n",
       "      <td>1302</td>\n",
       "      <td>2023-03-31</td>\n",
       "      <td>4109.31</td>\n",
       "      <td>33274.15</td>\n",
       "      <td>March 31 2023</td>\n",
       "      <td>Friday, 2023-03-31</td>\n",
       "      <td>Mar-31, 23</td>\n",
       "      <td>2023-03-31</td>\n",
       "      <td>58.48</td>\n",
       "      <td>4050.83</td>\n",
       "      <td>1.443655</td>\n",
       "      <td>1 days</td>\n",
       "      <td>1.0</td>\n",
       "    </tr>\n",
       "    <tr>\n",
       "      <th>1303</th>\n",
       "      <td>1303</td>\n",
       "      <td>2023-04-03</td>\n",
       "      <td>4124.51</td>\n",
       "      <td>33601.15</td>\n",
       "      <td>April 03 2023</td>\n",
       "      <td>Monday, 2023-04-03</td>\n",
       "      <td>Apr-03, 23</td>\n",
       "      <td>2023-04-03</td>\n",
       "      <td>15.20</td>\n",
       "      <td>4109.31</td>\n",
       "      <td>0.369892</td>\n",
       "      <td>3 days</td>\n",
       "      <td>3.0</td>\n",
       "    </tr>\n",
       "    <tr>\n",
       "      <th>1304</th>\n",
       "      <td>1304</td>\n",
       "      <td>2023-04-04</td>\n",
       "      <td>4100.60</td>\n",
       "      <td>33402.38</td>\n",
       "      <td>April 04 2023</td>\n",
       "      <td>Tuesday, 2023-04-04</td>\n",
       "      <td>Apr-04, 23</td>\n",
       "      <td>2023-04-04</td>\n",
       "      <td>-23.91</td>\n",
       "      <td>4124.51</td>\n",
       "      <td>-0.579705</td>\n",
       "      <td>1 days</td>\n",
       "      <td>1.0</td>\n",
       "    </tr>\n",
       "  </tbody>\n",
       "</table>\n",
       "<p>1305 rows × 13 columns</p>\n",
       "</div>"
      ],
      "text/plain": [
       "      Unnamed: 0    date_str    sp500      djia       date_ex1  \\\n",
       "0              0  2018-04-04  2644.69  24264.30  April 04 2018   \n",
       "1              1  2018-04-05  2662.84  24505.22  April 05 2018   \n",
       "2              2  2018-04-06  2604.47  23932.76  April 06 2018   \n",
       "3              3  2018-04-09  2613.16  23979.10  April 09 2018   \n",
       "4              4  2018-04-10  2656.87  24408.00  April 10 2018   \n",
       "...          ...         ...      ...       ...            ...   \n",
       "1300        1300  2023-03-29  4027.81  32717.60  March 29 2023   \n",
       "1301        1301  2023-03-30  4050.83  32859.03  March 30 2023   \n",
       "1302        1302  2023-03-31  4109.31  33274.15  March 31 2023   \n",
       "1303        1303  2023-04-03  4124.51  33601.15  April 03 2023   \n",
       "1304        1304  2023-04-04  4100.60  33402.38  April 04 2023   \n",
       "\n",
       "                   date_ex2    date_ex3       date  diff_sp500  lag_sp500  \\\n",
       "0     Wednesday, 2018-04-04  Apr-04, 18 2018-04-04         NaN        NaN   \n",
       "1      Thursday, 2018-04-05  Apr-05, 18 2018-04-05       18.15    2644.69   \n",
       "2        Friday, 2018-04-06  Apr-06, 18 2018-04-06      -58.37    2662.84   \n",
       "3        Monday, 2018-04-09  Apr-09, 18 2018-04-09        8.69    2604.47   \n",
       "4       Tuesday, 2018-04-10  Apr-10, 18 2018-04-10       43.71    2613.16   \n",
       "...                     ...         ...        ...         ...        ...   \n",
       "1300  Wednesday, 2023-03-29  Mar-29, 23 2023-03-29       56.54    3971.27   \n",
       "1301   Thursday, 2023-03-30  Mar-30, 23 2023-03-30       23.02    4027.81   \n",
       "1302     Friday, 2023-03-31  Mar-31, 23 2023-03-31       58.48    4050.83   \n",
       "1303     Monday, 2023-04-03  Apr-03, 23 2023-04-03       15.20    4109.31   \n",
       "1304    Tuesday, 2023-04-04  Apr-04, 23 2023-04-04      -23.91    4124.51   \n",
       "\n",
       "      growth_sp500 diff_date  count_days  \n",
       "0              NaN       NaT         NaN  \n",
       "1         0.686281    1 days         1.0  \n",
       "2        -2.192021    1 days         1.0  \n",
       "3         0.333657    3 days         3.0  \n",
       "4         1.672687    1 days         1.0  \n",
       "...            ...       ...         ...  \n",
       "1300      1.423726    1 days         1.0  \n",
       "1301      0.571526    1 days         1.0  \n",
       "1302      1.443655    1 days         1.0  \n",
       "1303      0.369892    3 days         3.0  \n",
       "1304     -0.579705    1 days         1.0  \n",
       "\n",
       "[1305 rows x 13 columns]"
      ]
     },
     "metadata": {},
     "output_type": "display_data"
    }
   ],
   "source": [
    "# In the financial data example, the price of the stock portfolios isn't recorded\n",
    "# on weekends. Sometimes it's important to account for these differences in the\n",
    "# legnth between time periods, when accounting for growth rates\n",
    "# Can compute dt.days, dt.months, dt.year, etc.\n",
    "\n",
    "financial[\"diff_date\"]  = financial[\"date\"]-financial[\"date\"].shift(1)\n",
    "financial[\"count_days\"] = financial[\"diff_date\"].dt.days\n",
    "display(financial)"
   ]
  },
  {
   "attachments": {},
   "cell_type": "markdown",
   "metadata": {},
   "source": [
    "<font size = \"5\">\n",
    "\n",
    "Plot growth"
   ]
  },
  {
   "cell_type": "code",
   "execution_count": 13,
   "metadata": {},
   "outputs": [
    {
     "data": {
      "text/plain": [
       "Text(0.5, 1.0, 'Change in the S&P 500 Index')"
      ]
     },
     "execution_count": 13,
     "metadata": {},
     "output_type": "execute_result"
    },
    {
     "data": {
      "image/png": "[encoded data removed]",
      "text/plain": [
       "<Figure size 432x288 with 1 Axes>"
      ]
     },
     "metadata": {
      "needs_background": "light"
     },
     "output_type": "display_data"
    }
   ],
   "source": [
    "plt.plot(\"date\", \"growth_sp500\",\n",
    "          data = financial.sort_values(\"date\",ascending = True))\n",
    "plt.xlabel(\"Time\")\n",
    "plt.ylabel(\"Daily percentage change \")\n",
    "plt.title(\"Change in the S&P 500 Index\")"
   ]
  },
  {
   "attachments": {},
   "cell_type": "markdown",
   "metadata": {},
   "source": [
    "<font size = \"5\" >\n",
    "\n",
    "Try it yourself!\n",
    "\n",
    "- Compute a column with the growth of the Dow Jones\n",
    "- Plot the growth of the S&P 500 and Dow Jones in a <br>\n",
    "single plot"
   ]
  },
  {
   "cell_type": "code",
   "execution_count": 38,
   "metadata": {},
   "outputs": [],
   "source": [
    "# Write your own code\n",
    "financial[\"diff_djia\"] = financial[\"djia\"].diff()\n",
    "financial[\"lag_djia\"]    = financial[\"djia\"].shift(1)\n",
    "financial[\"growth_djia\"] = financial[\"diff_djia\"]* 100/financial[\"lag_djia\"]\n"
   ]
  },
  {
   "cell_type": "code",
   "execution_count": 39,
   "metadata": {},
   "outputs": [
    {
     "data": {
      "text/plain": [
       "<matplotlib.legend.Legend at 0x172f69d80>"
      ]
     },
     "execution_count": 39,
     "metadata": {},
     "output_type": "execute_result"
    },
    {
     "data": {
      "image/png": "[encoded data removed]",
      "text/plain": [
       "<Figure size 432x288 with 1 Axes>"
      ]
     },
     "metadata": {
      "needs_background": "light"
     },
     "output_type": "display_data"
    }
   ],
   "source": [
    "financial[[\"date\",\"growth_sp500\",\"growth_djia\"]].set_index(\"date\").plot()\n",
    "plt.xlabel(\"Time\")\n",
    "plt.ylabel(\"Daily percentage change\")\n",
    "plt.title(\"Change in the S&P 500 and Dow Jones Indexes\")\n",
    "plt.legend([\"Standard and Poor's 500\",\"Dow Jones Industrial Index\"])"
   ]
  },
  {
   "attachments": {},
   "cell_type": "markdown",
   "metadata": {},
   "source": [
    "# <span style=\"color:darkblue\"> III. Subsetting with time data </span>"
   ]
  },
  {
   "attachments": {},
   "cell_type": "markdown",
   "metadata": {},
   "source": [
    "<font size = \"5\" >\n",
    "\n",
    "Subsetting before/after"
   ]
  },
  {
   "cell_type": "code",
   "execution_count": 40,
   "metadata": {},
   "outputs": [],
   "source": [
    "# Since the \"date\" column has a time format, Python\n",
    "# will interpret \"2019-01-01\" as a date inside the query command\n",
    "# Note: remember that you have to use single quotations for \".query()\"\n",
    "\n",
    "subset_before  = financial.query('date >= \"2019-01-01\" ')\n",
    "subset_after   = financial.query('date <= \"2020-01-01\" ')"
   ]
  },
  {
   "attachments": {},
   "cell_type": "markdown",
   "metadata": {},
   "source": [
    "<font size = \"5\" >\n",
    "\n",
    "Obtain a subset between two dates"
   ]
  },
  {
   "cell_type": "code",
   "execution_count": 41,
   "metadata": {},
   "outputs": [],
   "source": [
    "# This command applies the function \".between()\" to the column\n",
    "\n",
    "subset_between = financial.query('date.between(\"2020-03-01\",\"2020-05-01\")')"
   ]
  },
  {
   "attachments": {},
   "cell_type": "markdown",
   "metadata": {},
   "source": [
    "<font size = \"5\">\n",
    "\n",
    "Flag observations"
   ]
  },
  {
   "cell_type": "code",
   "execution_count": 43,
   "metadata": {},
   "outputs": [
    {
     "data": {
      "text/html": [
       "<div>\n",
       "<style scoped>\n",
       "    .dataframe tbody tr th:only-of-type {\n",
       "        vertical-align: middle;\n",
       "    }\n",
       "\n",
       "    .dataframe tbody tr th {\n",
       "        vertical-align: top;\n",
       "    }\n",
       "\n",
       "    .dataframe thead th {\n",
       "        text-align: right;\n",
       "    }\n",
       "</style>\n",
       "<table border=\"1\" class=\"dataframe\">\n",
       "  <thead>\n",
       "    <tr style=\"text-align: right;\">\n",
       "      <th></th>\n",
       "      <th>bool_period</th>\n",
       "      <th>bool_example</th>\n",
       "    </tr>\n",
       "  </thead>\n",
       "  <tbody>\n",
       "    <tr>\n",
       "      <th>0</th>\n",
       "      <td>False</td>\n",
       "      <td>False</td>\n",
       "    </tr>\n",
       "    <tr>\n",
       "      <th>1</th>\n",
       "      <td>False</td>\n",
       "      <td>False</td>\n",
       "    </tr>\n",
       "    <tr>\n",
       "      <th>2</th>\n",
       "      <td>False</td>\n",
       "      <td>False</td>\n",
       "    </tr>\n",
       "    <tr>\n",
       "      <th>3</th>\n",
       "      <td>False</td>\n",
       "      <td>False</td>\n",
       "    </tr>\n",
       "    <tr>\n",
       "      <th>4</th>\n",
       "      <td>False</td>\n",
       "      <td>False</td>\n",
       "    </tr>\n",
       "    <tr>\n",
       "      <th>...</th>\n",
       "      <td>...</td>\n",
       "      <td>...</td>\n",
       "    </tr>\n",
       "    <tr>\n",
       "      <th>1300</th>\n",
       "      <td>False</td>\n",
       "      <td>False</td>\n",
       "    </tr>\n",
       "    <tr>\n",
       "      <th>1301</th>\n",
       "      <td>False</td>\n",
       "      <td>False</td>\n",
       "    </tr>\n",
       "    <tr>\n",
       "      <th>1302</th>\n",
       "      <td>False</td>\n",
       "      <td>False</td>\n",
       "    </tr>\n",
       "    <tr>\n",
       "      <th>1303</th>\n",
       "      <td>False</td>\n",
       "      <td>False</td>\n",
       "    </tr>\n",
       "    <tr>\n",
       "      <th>1304</th>\n",
       "      <td>False</td>\n",
       "      <td>False</td>\n",
       "    </tr>\n",
       "  </tbody>\n",
       "</table>\n",
       "<p>1305 rows × 2 columns</p>\n",
       "</div>"
      ],
      "text/plain": [
       "      bool_period  bool_example\n",
       "0           False         False\n",
       "1           False         False\n",
       "2           False         False\n",
       "3           False         False\n",
       "4           False         False\n",
       "...           ...           ...\n",
       "1300        False         False\n",
       "1301        False         False\n",
       "1302        False         False\n",
       "1303        False         False\n",
       "1304        False         False\n",
       "\n",
       "[1305 rows x 2 columns]"
      ]
     },
     "metadata": {},
     "output_type": "display_data"
    }
   ],
   "source": [
    "financial[\"bool_period\"]  = financial[\"date\"].between(\"2020-03-01\",\"2020-05-01\")\n",
    "financial[\"bool_example\"] = financial[\"growth_sp500\"] > 5\n",
    "display(financial[[\"bool_period\", \"bool_example\"]])"
   ]
  },
  {
   "attachments": {},
   "cell_type": "markdown",
   "metadata": {},
   "source": [
    "<font size = \"5\">\n",
    "\n",
    "Plot results"
   ]
  },
  {
   "cell_type": "code",
   "execution_count": 45,
   "metadata": {},
   "outputs": [
    {
     "data": {
      "image/png": "[encoded data removed]",
      "text/plain": [
       "<Figure size 432x288 with 1 Axes>"
      ]
     },
     "metadata": {
      "needs_background": "light"
     },
     "output_type": "display_data"
    }
   ],
   "source": [
    "# Create a line plot\n",
    "plt.plot(\"date\", \"growth_sp500\", data = financial)\n",
    "plt.xlabel(\"Time\")\n",
    "plt.ylabel(\"Daily percentage change \")\n",
    "plt.title(\"The S&P 500 during the start of COVID\")\n",
    "\n",
    "# Add a shaded region wth a rectangle\n",
    "# \"x\" is the x-coordinates, \"y1\" and \"y2\" are the lower\n",
    "# and upper bounds of the rectangle. We can set this\n",
    "# to be the minimum and meximum of the outcome.\n",
    "# we use \"where\" to test a logical condition\n",
    "\n",
    "vec_y = financial[\"growth_sp500\"]\n",
    "plt.fill_between(x= financial[\"date\"],\n",
    "                 y1 = vec_y.min(),\n",
    "                 y2 = vec_y.max(),\n",
    "                 where = financial[\"bool_period\"],\n",
    "                 alpha = 0.2,color = \"red\")\n",
    "\n",
    "plt.show()"
   ]
  },
  {
   "attachments": {},
   "cell_type": "markdown",
   "metadata": {},
   "source": [
    "<font size = \"5\">\n",
    "\n",
    "Try it yourself!\n",
    "\n",
    "- Generate a plot of the daily growth of the Dow Jones \n",
    "- Highlight regions where there was growth higher than 4\\% <br>\n",
    "or below -4\\%"
   ]
  },
  {
   "cell_type": "code",
   "execution_count": 25,
   "metadata": {},
   "outputs": [
    {
     "data": {
      "image/png": "[encoded data removed]",
      "text/plain": [
       "<Figure size 640x480 with 1 Axes>"
      ]
     },
     "metadata": {},
     "output_type": "display_data"
    }
   ],
   "source": [
    "# Write your own code\n",
    "\n"
   ]
  },
  {
   "attachments": {},
   "cell_type": "markdown",
   "metadata": {},
   "source": [
    "# <span style=\"color:darkblue\"> IV. Wide and Long Format </span>\n",
    "\n",
    "<font size = \"5\">\n",
    "\n",
    "Data can come in a wide variety of formats\n",
    "\n",
    "- Few rows, multiple columns (wide)\n",
    "- Stacked rows, few columns (long)\n",
    "- The **information** is the same!"
   ]
  },
  {
   "attachments": {},
   "cell_type": "markdown",
   "metadata": {},
   "source": [
    "<font size = \"5\">\n",
    "\n",
    "Wide to long\n",
    "\n",
    "$\\quad$ <img src=\"figures/melt_fig.png\" alt=\"drawing\" width=\"550\"/>"
   ]
  },
  {
   "cell_type": "code",
   "execution_count": 46,
   "metadata": {},
   "outputs": [
    {
     "data": {
      "text/html": [
       "<div>\n",
       "<style scoped>\n",
       "    .dataframe tbody tr th:only-of-type {\n",
       "        vertical-align: middle;\n",
       "    }\n",
       "\n",
       "    .dataframe tbody tr th {\n",
       "        vertical-align: top;\n",
       "    }\n",
       "\n",
       "    .dataframe thead th {\n",
       "        text-align: right;\n",
       "    }\n",
       "</style>\n",
       "<table border=\"1\" class=\"dataframe\">\n",
       "  <thead>\n",
       "    <tr style=\"text-align: right;\">\n",
       "      <th></th>\n",
       "      <th>date</th>\n",
       "      <th>portfolio_type</th>\n",
       "      <th>portfolio_value</th>\n",
       "    </tr>\n",
       "  </thead>\n",
       "  <tbody>\n",
       "    <tr>\n",
       "      <th>0</th>\n",
       "      <td>2018-04-04</td>\n",
       "      <td>sp500</td>\n",
       "      <td>2644.69</td>\n",
       "    </tr>\n",
       "    <tr>\n",
       "      <th>1</th>\n",
       "      <td>2018-04-05</td>\n",
       "      <td>sp500</td>\n",
       "      <td>2662.84</td>\n",
       "    </tr>\n",
       "    <tr>\n",
       "      <th>2</th>\n",
       "      <td>2018-04-06</td>\n",
       "      <td>sp500</td>\n",
       "      <td>2604.47</td>\n",
       "    </tr>\n",
       "    <tr>\n",
       "      <th>3</th>\n",
       "      <td>2018-04-09</td>\n",
       "      <td>sp500</td>\n",
       "      <td>2613.16</td>\n",
       "    </tr>\n",
       "    <tr>\n",
       "      <th>4</th>\n",
       "      <td>2018-04-10</td>\n",
       "      <td>sp500</td>\n",
       "      <td>2656.87</td>\n",
       "    </tr>\n",
       "    <tr>\n",
       "      <th>...</th>\n",
       "      <td>...</td>\n",
       "      <td>...</td>\n",
       "      <td>...</td>\n",
       "    </tr>\n",
       "    <tr>\n",
       "      <th>2605</th>\n",
       "      <td>2023-03-29</td>\n",
       "      <td>djia</td>\n",
       "      <td>32717.60</td>\n",
       "    </tr>\n",
       "    <tr>\n",
       "      <th>2606</th>\n",
       "      <td>2023-03-30</td>\n",
       "      <td>djia</td>\n",
       "      <td>32859.03</td>\n",
       "    </tr>\n",
       "    <tr>\n",
       "      <th>2607</th>\n",
       "      <td>2023-03-31</td>\n",
       "      <td>djia</td>\n",
       "      <td>33274.15</td>\n",
       "    </tr>\n",
       "    <tr>\n",
       "      <th>2608</th>\n",
       "      <td>2023-04-03</td>\n",
       "      <td>djia</td>\n",
       "      <td>33601.15</td>\n",
       "    </tr>\n",
       "    <tr>\n",
       "      <th>2609</th>\n",
       "      <td>2023-04-04</td>\n",
       "      <td>djia</td>\n",
       "      <td>33402.38</td>\n",
       "    </tr>\n",
       "  </tbody>\n",
       "</table>\n",
       "<p>2610 rows × 3 columns</p>\n",
       "</div>"
      ],
      "text/plain": [
       "           date portfolio_type  portfolio_value\n",
       "0    2018-04-04          sp500          2644.69\n",
       "1    2018-04-05          sp500          2662.84\n",
       "2    2018-04-06          sp500          2604.47\n",
       "3    2018-04-09          sp500          2613.16\n",
       "4    2018-04-10          sp500          2656.87\n",
       "...         ...            ...              ...\n",
       "2605 2023-03-29           djia         32717.60\n",
       "2606 2023-03-30           djia         32859.03\n",
       "2607 2023-03-31           djia         33274.15\n",
       "2608 2023-04-03           djia         33601.15\n",
       "2609 2023-04-04           djia         33402.38\n",
       "\n",
       "[2610 rows x 3 columns]"
      ]
     },
     "metadata": {},
     "output_type": "display_data"
    }
   ],
   "source": [
    "financial_long = pd.melt(financial,\n",
    "                         var_name   = \"portfolio_type\",\n",
    "                         value_name = \"portfolio_value\",\n",
    "                         id_vars='date',\n",
    "                         value_vars=['sp500','djia'])\n",
    "\n",
    "display(financial_long)"
   ]
  },
  {
   "attachments": {},
   "cell_type": "markdown",
   "metadata": {},
   "source": [
    "<font size = \"5\">\n",
    "\n",
    "Long to wide\n",
    "\n",
    "$\\quad$ <img src=\"figures/pivot_fig.png\" alt=\"drawing\" width=\"550\"/>"
   ]
  },
  {
   "cell_type": "code",
   "execution_count": 50,
   "metadata": {},
   "outputs": [
    {
     "data": {
      "text/html": [
       "<div>\n",
       "<style scoped>\n",
       "    .dataframe tbody tr th:only-of-type {\n",
       "        vertical-align: middle;\n",
       "    }\n",
       "\n",
       "    .dataframe tbody tr th {\n",
       "        vertical-align: top;\n",
       "    }\n",
       "\n",
       "    .dataframe thead th {\n",
       "        text-align: right;\n",
       "    }\n",
       "</style>\n",
       "<table border=\"1\" class=\"dataframe\">\n",
       "  <thead>\n",
       "    <tr style=\"text-align: right;\">\n",
       "      <th>portfolio_type</th>\n",
       "      <th>djia</th>\n",
       "      <th>sp500</th>\n",
       "    </tr>\n",
       "    <tr>\n",
       "      <th>date</th>\n",
       "      <th></th>\n",
       "      <th></th>\n",
       "    </tr>\n",
       "  </thead>\n",
       "  <tbody>\n",
       "    <tr>\n",
       "      <th>2018-04-04</th>\n",
       "      <td>24264.30</td>\n",
       "      <td>2644.69</td>\n",
       "    </tr>\n",
       "    <tr>\n",
       "      <th>2018-04-05</th>\n",
       "      <td>24505.22</td>\n",
       "      <td>2662.84</td>\n",
       "    </tr>\n",
       "    <tr>\n",
       "      <th>2018-04-06</th>\n",
       "      <td>23932.76</td>\n",
       "      <td>2604.47</td>\n",
       "    </tr>\n",
       "    <tr>\n",
       "      <th>2018-04-09</th>\n",
       "      <td>23979.10</td>\n",
       "      <td>2613.16</td>\n",
       "    </tr>\n",
       "    <tr>\n",
       "      <th>2018-04-10</th>\n",
       "      <td>24408.00</td>\n",
       "      <td>2656.87</td>\n",
       "    </tr>\n",
       "    <tr>\n",
       "      <th>...</th>\n",
       "      <td>...</td>\n",
       "      <td>...</td>\n",
       "    </tr>\n",
       "    <tr>\n",
       "      <th>2023-03-29</th>\n",
       "      <td>32717.60</td>\n",
       "      <td>4027.81</td>\n",
       "    </tr>\n",
       "    <tr>\n",
       "      <th>2023-03-30</th>\n",
       "      <td>32859.03</td>\n",
       "      <td>4050.83</td>\n",
       "    </tr>\n",
       "    <tr>\n",
       "      <th>2023-03-31</th>\n",
       "      <td>33274.15</td>\n",
       "      <td>4109.31</td>\n",
       "    </tr>\n",
       "    <tr>\n",
       "      <th>2023-04-03</th>\n",
       "      <td>33601.15</td>\n",
       "      <td>4124.51</td>\n",
       "    </tr>\n",
       "    <tr>\n",
       "      <th>2023-04-04</th>\n",
       "      <td>33402.38</td>\n",
       "      <td>4100.60</td>\n",
       "    </tr>\n",
       "  </tbody>\n",
       "</table>\n",
       "<p>1305 rows × 2 columns</p>\n",
       "</div>"
      ],
      "text/plain": [
       "portfolio_type      djia    sp500\n",
       "date                             \n",
       "2018-04-04      24264.30  2644.69\n",
       "2018-04-05      24505.22  2662.84\n",
       "2018-04-06      23932.76  2604.47\n",
       "2018-04-09      23979.10  2613.16\n",
       "2018-04-10      24408.00  2656.87\n",
       "...                  ...      ...\n",
       "2023-03-29      32717.60  4027.81\n",
       "2023-03-30      32859.03  4050.83\n",
       "2023-03-31      33274.15  4109.31\n",
       "2023-04-03      33601.15  4124.51\n",
       "2023-04-04      33402.38  4100.60\n",
       "\n",
       "[1305 rows x 2 columns]"
      ]
     },
     "execution_count": 50,
     "metadata": {},
     "output_type": "execute_result"
    }
   ],
   "source": [
    "financial_wide = (pd.pivot(financial_long,\n",
    "                           index = 'date',\n",
    "                           columns = 'portfolio_type',\n",
    "                           values =  'portfolio_value'))\n",
    "\n",
    "financial_wide\n",
    "\n",
    "# If you also want the index to be part of the dataset add\n",
    "# \".reset_index()\" to the end of the previous command"
   ]
  },
  {
   "attachments": {},
   "cell_type": "markdown",
   "metadata": {},
   "source": [
    "<font size = \"5\">\n",
    "\n",
    "Try it yourself!\n",
    "\n",
    "- Convert the \"growth_sp500\" and <br>\n",
    "\"growth_djia\" to long format"
   ]
  },
  {
   "cell_type": "code",
   "execution_count": null,
   "metadata": {},
   "outputs": [],
   "source": [
    "# Write your own code\n",
    "\n",
    "\n",
    "\n",
    "\n",
    "\n"
   ]
  }
 ],
 "metadata": {
  "kernelspec": {
   "display_name": "base",
   "language": "python",
   "name": "python3"
  },
  "language_info": {
   "codemirror_mode": {
    "name": "ipython",
    "version": 3
   },
   "file_extension": ".py",
   "mimetype": "text/x-python",
   "name": "python",
   "nbconvert_exporter": "python",
   "pygments_lexer": "ipython3",
   "version": "3.10.2"
  },
  "orig_nbformat": 4
 },
 "nbformat": 4,
 "nbformat_minor": 2
}
