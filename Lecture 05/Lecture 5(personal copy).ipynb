{
 "cells": [
  {
   "attachments": {},
   "cell_type": "markdown",
   "metadata": {},
   "source": [
    "# <span style=\"color:darkblue\"> Lecture 5: Loops </span>"
   ]
  },
  {
   "attachments": {},
   "cell_type": "markdown",
   "metadata": {},
   "source": [
    "<font size=\"5\"> \n",
    "\n",
    "In the previous class we:\n",
    "- Introduced boolean types and if/else statments\n",
    "- Introduced a type of structure with indendented code"
   ]
  },
  {
   "attachments": {},
   "cell_type": "markdown",
   "metadata": {},
   "source": [
    "<font size=\"5\"> \n",
    "\n",
    "In this class we will:\n",
    "\n",
    "- Talk about basic manipulation of lists\n",
    "- Introduce \"For\" Loops and examples of key algorithms"
   ]
  },
  {
   "attachments": {},
   "cell_type": "markdown",
   "metadata": {},
   "source": [
    "## <span style=\"color:darkblue\"> I. Import Libraries </span>"
   ]
  },
  {
   "cell_type": "code",
   "execution_count": 2,
   "metadata": {},
   "outputs": [],
   "source": [
    "# the \"numPy\" library is used for mathematical operations\n",
    "# the \"matplotlib\" library is for generating graphs\n",
    "# the \"pandas\" library is for manipualting datasets\n",
    "#\n",
    "\n",
    "import numpy as np\n",
    "import matplotlib.pyplot as plt\n",
    "import pandas as pd"
   ]
  },
  {
   "attachments": {},
   "cell_type": "markdown",
   "metadata": {},
   "source": [
    "## <span style=\"color:darkblue\"> II. Manipulating Lists"
   ]
  },
  {
   "attachments": {},
   "cell_type": "markdown",
   "metadata": {},
   "source": [
    "<font size = \"5\"> Blank slate: Lists with null values\n",
    "\n",
    "- We've seen \"int\", \"float\", \"str\", \"boleean\"\n",
    "- There is also \"None\" (or null)\n",
    "- Can add real values later"
   ]
  },
  {
   "cell_type": "code",
   "execution_count": 3,
   "metadata": {},
   "outputs": [
    {
     "name": "stdout",
     "output_type": "stream",
     "text": [
      "[None, None, None]\n"
     ]
    }
   ],
   "source": [
    "# Simply type \"None\"\n",
    "\n",
    "list_answers = [None,None,None]\n",
    "\n",
    "print(list_answers)\n"
   ]
  },
  {
   "attachments": {},
   "cell_type": "markdown",
   "metadata": {},
   "source": [
    "<font size = \"5\">\n",
    "\n",
    "Assigning/replacing values to lists\n",
    "\n"
   ]
  },
  {
   "cell_type": "code",
   "execution_count": 4,
   "metadata": {},
   "outputs": [],
   "source": [
    "# Assign values with the command \"list_answers[index] = value\".\n",
    "# Let's assign names! Which ones do you like?\n",
    "\n",
    "list_answers[0] = \"Atlanta\"\n"
   ]
  },
  {
   "attachments": {},
   "cell_type": "markdown",
   "metadata": {},
   "source": [
    "<font size = \"5\">\n",
    "\n",
    "Appending values to lists\n"
   ]
  },
  {
   "cell_type": "code",
   "execution_count": 5,
   "metadata": {},
   "outputs": [
    {
     "name": "stdout",
     "output_type": "stream",
     "text": [
      "['Item 1', 2]\n"
     ]
    }
   ],
   "source": [
    "# We can start an empty list with []\n",
    "# Use the command \"new_list.append(item)\" with the function \"append()\"\n",
    "# an an arbitrary value of \"item\"\n",
    "\n",
    "new_list = []\n",
    "new_list.append(\"Item 1\")\n",
    "new_list.append(2)\n",
    "\n",
    "print(new_list)\n"
   ]
  },
  {
   "attachments": {},
   "cell_type": "markdown",
   "metadata": {},
   "source": [
    "<font size = \"5\" > Lists with repeated values"
   ]
  },
  {
   "cell_type": "code",
   "execution_count": 6,
   "metadata": {},
   "outputs": [
    {
     "name": "stdout",
     "output_type": "stream",
     "text": [
      "[7, 7, 7, 7, 7, 7, 7, 7, 7, 7, 7, 7, 7, 7, 7, 7, 7, 7, 7, 7, 7, 7, 7, 7, 7, 7, 7, 7, 7, 7]\n",
      "['Atlanta', None, None, 'Atlanta', None, None, 'Atlanta', None, None, 'Atlanta', None, None]\n",
      "[None, None, None, None, None, None, None, None]\n"
     ]
    }
   ],
   "source": [
    "# Repeat a single value 30 times\n",
    "list_two_rep = [7] * 30\n",
    "\n",
    "# Repeat a list 4 times\n",
    "list_answers_rep = list_answers * 4 \n",
    "\n",
    "# Repeat of 8 null values\n",
    "list_none_rep = [None] * 8 \n",
    "\n",
    "\n",
    "print(list_two_rep)\n",
    "print(list_answers_rep)\n",
    "print(list_none_rep)\n"
   ]
  },
  {
   "attachments": {},
   "cell_type": "markdown",
   "metadata": {},
   "source": [
    "<font size = \"5\"> Counting length of vectors"
   ]
  },
  {
   "cell_type": "code",
   "execution_count": 7,
   "metadata": {},
   "outputs": [
    {
     "name": "stdout",
     "output_type": "stream",
     "text": [
      "3\n",
      "30\n",
      "12\n"
     ]
    }
   ],
   "source": [
    "# len() is a function that counts the number of elements\n",
    "\n",
    "print(len(list_answers))\n",
    "print(len(list_two_rep))\n",
    "print(len(list_answers_rep))\n"
   ]
  },
  {
   "attachments": {},
   "cell_type": "markdown",
   "metadata": {},
   "source": [
    "<font size = \"5\">\n",
    "Try it yourself!\n",
    "\n",
    "- Create an empty list called \"list_personal\"\n",
    "- Add two more values using \".append\"\n",
    "- Find the total length of the list\n",
    "- Change the last value to \"Last element\""
   ]
  },
  {
   "cell_type": "code",
   "execution_count": 8,
   "metadata": {},
   "outputs": [
    {
     "name": "stdout",
     "output_type": "stream",
     "text": [
      "['Zach', 'Cheng']\n",
      "2\n",
      "['Zach', 'Last element']\n"
     ]
    }
   ],
   "source": [
    "list_personal = []\n",
    "list_personal.append(\"Zach\")\n",
    "list_personal.append(\"Cheng\")\n",
    "print(list_personal)\n",
    "\n",
    "print(len(list_personal))\n",
    "list_personal[-1] = \"Last element\"\n",
    "print(list_personal)"
   ]
  },
  {
   "attachments": {},
   "cell_type": "markdown",
   "metadata": {},
   "source": [
    "## <span style=\"color:darkblue\"> III. For Loops</span> \n",
    "\n",
    "<font size=\"5\"> \n",
    "\n",
    "One of the most important elements of computation is repetition\n",
    "-  We can do this with \"loops\".\n",
    "- In the next examples, we repeat a task for each element in a list\n",
    "\n",
    "Consider an example with three elements"
   ]
  },
  {
   "attachments": {},
   "cell_type": "markdown",
   "metadata": {},
   "source": [
    "<font size = \"5\">\n",
    "\n",
    "<table><tr>\n",
    "<td style = \"border:0px\"> <img src=\"figures/forloop.png\" alt=\"drawing\" width=\"300\"/>  </td>\n",
    "<td style = \"border:0px\">  Use concise syntax with a for-loop <br>\n",
    "\n",
    "``` python\n",
    "    for value in list_values:\n",
    "        Body\n",
    "```\n",
    " </td>\n",
    "</tr></table>\n"
   ]
  },
  {
   "attachments": {},
   "cell_type": "markdown",
   "metadata": {},
   "source": [
    "<font size = \"5\">\n",
    "\n",
    "Customized Messages"
   ]
  },
  {
   "cell_type": "code",
   "execution_count": 9,
   "metadata": {},
   "outputs": [
    {
     "name": "stdout",
     "output_type": "stream",
     "text": [
      "Dear customer, we are writing about your KIA car.\n",
      "Dear customer, we are writing about your Ferrari car.\n",
      "Dear customer, we are writing about your Ford car.\n",
      "Dear customer, we are writing about your Tesla car.\n"
     ]
    }
   ],
   "source": [
    "#------------------------------------------------------------------------------#\n",
    "#-------------   This produces exactly the same output as running -------------#\n",
    "#\n",
    "#    id_list = [\"KIA\", \"Ferrari\", \"Ford\", \"Tesla\"]\n",
    "#    print(\"Dear customer, we are writing about your \" + id_list[0] + \"\" car.\")\n",
    "#    print(\"Dear customer, we are writing about your \" + id_list[1] + \"\" car.\")\n",
    "#    print(\"Dear customer, we are writing about your \" + id_list[2] + \"\" car.\")\n",
    "#    print(\"Dear customer, we are writing about your \" + id_list[3] + \"\" car.\")\n",
    "#\n",
    "# Here we're concatenating strings with a \"+\" sign\n",
    "#\n",
    "#------------------------------------------------------------------------------#\n",
    "\n",
    "\n",
    "list_ids = [\"KIA\", \"Ferrari\", \"Ford\", \"Tesla\"]\n",
    "\n",
    "for id in list_ids:\n",
    "    print(\"Dear customer, we are writing about your \"  + id + \" car.\")\n",
    "\n"
   ]
  },
  {
   "attachments": {},
   "cell_type": "markdown",
   "metadata": {},
   "source": [
    "<font size = \"5\">\n",
    "\n",
    "Customized Messages + Numbering\n",
    "\n",
    "- Initiate \"index = 1\" before the loop\n",
    "- Add \"index = index + 1\" at the end of the body"
   ]
  },
  {
   "cell_type": "code",
   "execution_count": 10,
   "metadata": {},
   "outputs": [
    {
     "name": "stdout",
     "output_type": "stream",
     "text": [
      "Dear customer, your position is 1 on the waitlist and your car brand is KIA\n",
      "Dear customer, your position is 2 on the waitlist and your car brand is Ferrari\n",
      "Dear customer, your position is 3 on the waitlist and your car brand is Ford\n",
      "Dear customer, your position is 4 on the waitlist and your car brand is Tesla\n"
     ]
    }
   ],
   "source": [
    "#------------------------------------------------------------------------------#\n",
    "# One way to construct a sequence manually, is to gradually add numbers, e.g.\n",
    "#\n",
    "#     index = 1\n",
    "#     index = index + 1\n",
    "#     index = index + 1\n",
    "#     index = index + 1\n",
    "#     etc\n",
    "#\n",
    "#     We will do this automatically for a for loop!\n",
    "#\n",
    "#     Note: We can use \"str(index)\" to convert this to a string\n",
    "#\n",
    "#------------------------------------------------------------------------------#\n",
    "\n",
    "\n",
    "list_ids = [\"KIA\", \"Ferrari\", \"Ford\", \"Tesla\"]\n",
    "\n",
    "index = 1\n",
    "for id in list_ids:\n",
    "    print(\"Dear customer, your position is \" + str(index) + \" on the waitlist\" +\n",
    "           \" and your car brand is \" + id )\n",
    "    index = index + 1\n",
    "\n",
    "\n"
   ]
  },
  {
   "attachments": {},
   "cell_type": "markdown",
   "metadata": {},
   "source": [
    "<font size = \"5\" >\n",
    "\n",
    "Plots for multiple variables"
   ]
  },
  {
   "cell_type": "code",
   "execution_count": 138,
   "metadata": {},
   "outputs": [
    {
     "data": {
      "image/png": "[encoded data removed]",
      "text/plain": [
       "<Figure size 640x480 with 1 Axes>"
      ]
     },
     "metadata": {},
     "output_type": "display_data"
    },
    {
     "data": {
      "image/png": "[encoded data removed]",
      "text/plain": [
       "<Figure size 640x480 with 1 Axes>"
      ]
     },
     "metadata": {},
     "output_type": "display_data"
    }
   ],
   "source": [
    "#------------------------------------------------------------------------------#\n",
    "#-------------   This produces exactly the same output as running -------------#\n",
    "#\n",
    "#    carfeatures = pd.read_csv(\"data/features.csv\")\n",
    "#    list_vars = [\"acceleration\",\"weight\"]\n",
    "#\n",
    "#    variable_name = \"acceleration\"\n",
    "#    plt.scatter(x= carfeatures[variable_name], y = carfeatures[\"mpg\"])\n",
    "#    plt.ylabel(\"mpg\")\n",
    "#    plt.xlabel(variable_name)\n",
    "#    plt.show()\n",
    "#\n",
    "#    variable_name = \"weight\"\n",
    "#    plt.scatter(x= carfeatures[variable_name], y = carfeatures[\"mpg\"])\n",
    "#    plt.ylabel(\"mpg\")\n",
    "#    plt.xlabel(variable_name)\n",
    "#    plt.show()\n",
    "#\n",
    "#------------------------------------------------------------------------------#\n",
    "\n",
    "carfeatures = pd.read_csv(\"data/features.csv\")\n",
    "list_vars   = [\"acceleration\",\"weight\"]\n",
    "\n",
    "for variable_name in list_vars:\n",
    "    plt.scatter(x= carfeatures[variable_name], y = carfeatures[\"mpg\"])\n",
    "    plt.ylabel(\"mpg\")\n",
    "    plt.xlabel(variable_name)\n",
    "    plt.show()\n",
    "\n",
    "# Try adding more variables to the analysis!!!\n",
    "    "
   ]
  },
  {
   "attachments": {},
   "cell_type": "markdown",
   "metadata": {},
   "source": [
    "<font size = \"5\" >\n",
    "\n",
    "Plots for multiple variables + Numbering"
   ]
  },
  {
   "cell_type": "code",
   "execution_count": 11,
   "metadata": {},
   "outputs": [
    {
     "data": {
      "image/png": "[encoded data removed]",
      "text/plain": [
       "<Figure size 432x288 with 1 Axes>"
      ]
     },
     "metadata": {
      "needs_background": "light"
     },
     "output_type": "display_data"
    },
    {
     "data": {
      "image/png": "[encoded data removed]",
      "text/plain": [
       "<Figure size 432x288 with 1 Axes>"
      ]
     },
     "metadata": {
      "needs_background": "light"
     },
     "output_type": "display_data"
    }
   ],
   "source": [
    "carfeatures = pd.read_csv(\"data/features.csv\")\n",
    "list_vars   = [\"acceleration\",\"weight\"]\n",
    "\n",
    "index = 1\n",
    "for variable_name in list_vars:\n",
    "    plt.scatter(x= carfeatures[variable_name], y = carfeatures[\"mpg\"])\n",
    "    plt.ylabel(\"mpg\")\n",
    "    plt.xlabel(variable_name)\n",
    "    plt.title(\"Figure\" + str(index))\n",
    "    plt.show()\n",
    "    index = index + 1"
   ]
  },
  {
   "attachments": {},
   "cell_type": "markdown",
   "metadata": {},
   "source": [
    "<font size = \"5\">\n",
    "\n",
    "Math Operations (Appending)\n",
    "\n",
    "$ y = x^2 + 2x$"
   ]
  },
  {
   "cell_type": "code",
   "execution_count": 12,
   "metadata": {},
   "outputs": [
    {
     "name": "stdout",
     "output_type": "stream",
     "text": [
      "[3, 8, 24, 35, 48, 63, 80, 99, 120]\n"
     ]
    },
    {
     "data": {
      "text/plain": [
       "Text(0, 0.5, 'Y-axis')"
      ]
     },
     "execution_count": 12,
     "metadata": {},
     "output_type": "execute_result"
    },
    {
     "data": {
      "image/png": "[encoded data removed]",
      "text/plain": [
       "<Figure size 432x288 with 1 Axes>"
      ]
     },
     "metadata": {
      "needs_background": "light"
     },
     "output_type": "display_data"
    }
   ],
   "source": [
    "# Create a list of x-values list_x = [1,2,4,5, ..., 50]\n",
    "# Start an empty list of y-values with []\n",
    "\n",
    "n = 50\n",
    "list_x = [1,2,4,5,6,7,8,9,10]\n",
    "list_y = []\n",
    "\n",
    "# Create an index \n",
    "\n",
    "index = 0\n",
    "for x in list_x:\n",
    "    y = list_x[index]**2 + 2*x\n",
    "    list_y.append(y)\n",
    "    index = index + 1\n",
    "\n",
    "print(list_y)\n",
    "plt.scatter(list_x, list_y)\n",
    "plt.xlabel(\"X-axis\")\n",
    "plt.ylabel(\"Y-axis\")\n"
   ]
  },
  {
   "attachments": {},
   "cell_type": "markdown",
   "metadata": {},
   "source": [
    "<font size = \"5\">\n",
    "\n",
    "Math Operations + Numbering (Filling)\n",
    "\n",
    "\n",
    "$ y = x^2 + 2x$"
   ]
  },
  {
   "cell_type": "code",
   "execution_count": 13,
   "metadata": {},
   "outputs": [
    {
     "name": "stdout",
     "output_type": "stream",
     "text": [
      "[1, 4, 9, 16, 25, 36, 49, 64, 81, 100, 121, 144, 169, 196, 225, 256, 289, 324, 361, 400, 441, 484, 529, 576, 625, 676, 729, 784, 841, 900, 961, 1024, 1089, 1156, 1225, 1296, 1369, 1444, 1521, 1600, 1681, 1764, 1849, 1936, 2025, 2116, 2209, 2304, 2401]\n"
     ]
    },
    {
     "data": {
      "text/plain": [
       "Text(0, 0.5, 'Y-axis')"
      ]
     },
     "execution_count": 13,
     "metadata": {},
     "output_type": "execute_result"
    },
    {
     "data": {
      "image/png": "[encoded data removed]",
      "text/plain": [
       "<Figure size 432x288 with 1 Axes>"
      ]
     },
     "metadata": {
      "needs_background": "light"
     },
     "output_type": "display_data"
    }
   ],
   "source": [
    "# Create a list of x-values list_x = [1,2,4,5, ..., 50]\n",
    "# Create a list of y-values to fill in later.\n",
    "\n",
    "n = 50\n",
    "list_x = list(range(1,n,1))\n",
    "list_y = [None] * len(list_x)\n",
    "\n",
    "# Create an index \n",
    "\n",
    "index = 0\n",
    "for x in list_x:\n",
    "    list_y[index] = list_x[index]**2\n",
    "    index = index + 1\n",
    "\n",
    "print(list_y)\n",
    "plt.scatter(list_x, list_y)\n",
    "plt.xlabel(\"X-axis\")\n",
    "plt.ylabel(\"Y-axis\")\n"
   ]
  },
  {
   "attachments": {},
   "cell_type": "markdown",
   "metadata": {},
   "source": [
    "# <span style=\"color:darkblue\"> Exercises </span>\n"
   ]
  },
  {
   "attachments": {},
   "cell_type": "markdown",
   "metadata": {},
   "source": [
    "<font size = \"5\">\n",
    "\n",
    "Try it yourself!\n",
    "\n",
    "- Create a histogram and number the figures for each of the variables:\n",
    "\n",
    "list_variables = [\"weight\", \"acceleration\",\"mpg\"]\n"
   ]
  },
  {
   "cell_type": "code",
   "execution_count": 17,
   "metadata": {},
   "outputs": [
    {
     "data": {
      "image/png": "[encoded data removed]",
      "text/plain": [
       "<Figure size 432x288 with 1 Axes>"
      ]
     },
     "metadata": {
      "needs_background": "light"
     },
     "output_type": "display_data"
    },
    {
     "data": {
      "image/png": "[encoded data removed]",
      "text/plain": [
       "<Figure size 432x288 with 1 Axes>"
      ]
     },
     "metadata": {
      "needs_background": "light"
     },
     "output_type": "display_data"
    },
    {
     "data": {
      "image/png": "[encoded data removed]",
      "text/plain": [
       "<Figure size 432x288 with 1 Axes>"
      ]
     },
     "metadata": {
      "needs_background": "light"
     },
     "output_type": "display_data"
    }
   ],
   "source": [
    "# Write down your own code:\n",
    "\n",
    "list_variables = [\"weight\", \"acceleration\", \"mpg\"]\n",
    "\n",
    "for var in list_variables:\n",
    "    plt.hist(carfeatures[var])\n",
    "    plt.xlabel(\"Frequency\")\n",
    "    plt.ylabel(var)\n",
    "    plt.title(\"Histogram for \" + var)\n",
    "    plt.show()\n"
   ]
  },
  {
   "attachments": {},
   "cell_type": "markdown",
   "metadata": {},
   "source": [
    "<font size = \"5\">\n",
    "\n",
    "Try it yourself!\n",
    "- Create a new object called\n",
    "\n",
    "list_datasets = [\"features.csv\",\"worlbank_wdi_2019.csv\"]\n",
    "\n",
    "- Run a for loop over this list:\n",
    "- Read each of the datasets using \"pd.read_csv()\"\n",
    "- Print a table of descriptive statistics for each dataset\n"
   ]
  },
  {
   "cell_type": "code",
   "execution_count": 19,
   "metadata": {},
   "outputs": [
    {
     "name": "stdout",
     "output_type": "stream",
     "text": [
      "              mpg   cylinders  displacement       weight  acceleration\n",
      "count  398.000000  398.000000    398.000000   398.000000    398.000000\n",
      "mean    23.514573    5.454774    193.427136  2970.424623     15.568090\n",
      "std      7.815984    1.701004    104.268683   846.841774      2.757689\n",
      "min      9.000000    3.000000     68.000000  1613.000000      8.000000\n",
      "25%     17.500000    4.000000    104.250000  2223.750000     13.825000\n",
      "50%     23.000000    4.000000    148.500000  2803.500000     15.500000\n",
      "75%     29.000000    8.000000    262.000000  3608.000000     17.175000\n",
      "max     46.600000    8.000000    455.000000  5140.000000     24.800000\n",
      "       life_expectancy  gdp_per_capita_usd\n",
      "count       252.000000          255.000000\n",
      "mean         72.682931        17230.949757\n",
      "std           7.382636        25792.183785\n",
      "min          52.910000          216.972968\n",
      "25%          67.109750         2186.046581\n",
      "50%          73.599000         6837.717826\n",
      "75%          78.234892        19809.323135\n",
      "max          85.078049       199377.481800\n"
     ]
    }
   ],
   "source": [
    "# Write down your own code:\n",
    "list_datasets = [\"features.csv\", \"worldbank_wdi_2019.csv\"]\n",
    "\n",
    "for list in list_datasets:\n",
    "    df = pd.read_csv(\"data/\" + list)\n",
    "    print(df.describe())\n"
   ]
  },
  {
   "attachments": {},
   "cell_type": "markdown",
   "metadata": {},
   "source": [
    "\n",
    "\n",
    "\n"
   ]
  },
  {
   "attachments": {},
   "cell_type": "markdown",
   "metadata": {},
   "source": [
    "# <span style=\"color:darkblue\"> IV. Additional Resources </span>\n",
    "\n",
    "<font size=\"5\"> \n",
    "\n",
    "Check out additional examples at:\n",
    "\n",
    "- https://allendowney.github.io/ElementsOfDataScience/04_loops.html\n",
    "\n",
    "Pro tips:\n",
    "\n",
    "- Write the list and heading of the for loop first\n",
    "- If using numbering, start by a simple example that prints the index\n",
    "- After this, start writing the body of the loop\n",
    "- Always check output\n",
    "- Goood way to check output: Tables and graphs!\n"
   ]
  },
  {
   "attachments": {},
   "cell_type": "markdown",
   "metadata": {},
   "source": [
    "## <span style=\"color:darkblue\"> (Optional) Extra Features of For Loops </span>"
   ]
  },
  {
   "attachments": {},
   "cell_type": "markdown",
   "metadata": {},
   "source": [
    "<font size = \"5\">\n",
    "\n",
    "List Comprehension\n",
    "\n",
    "- A one-line for loop\n",
    "- Easy way to save the output to a list\n",
    "\n",
    "``` python\n",
    "list_name = [ expression for value in list_values]\n",
    "```"
   ]
  },
  {
   "cell_type": "code",
   "execution_count": 20,
   "metadata": {},
   "outputs": [
    {
     "name": "stdout",
     "output_type": "stream",
     "text": [
      "['Your car model is :KIA', 'Your car model is :Ferrari', 'Your car model is :Ford', 'Your car model is :Tesla']\n"
     ]
    }
   ],
   "source": [
    "# Example 1: Customized Messages\n",
    "\n",
    "id_list = [\"KIA\", \"Ferrari\", \"Ford\", \"Tesla\"]\n",
    "message_list = [\"Your car model is :\" + id for id in id_list]\n",
    "\n",
    "print(message_list)"
   ]
  },
  {
   "cell_type": "code",
   "execution_count": 22,
   "metadata": {},
   "outputs": [
    {
     "name": "stdout",
     "output_type": "stream",
     "text": [
      "[' Module One will cover Python', ' Module Two will cover Python', ' Module Three will cover SQL']\n"
     ]
    }
   ],
   "source": [
    "# Example 2: Customized Message + Numering\n",
    "\n",
    "topic_list   = [\"Python\", \"Python\",\"SQL\"]\n",
    "module_list  = [\"One\", \"Two\", \"Three\"]\n",
    "\n",
    "num_topics = len(topic_list)\n",
    "\n",
    "message_list = [\" Module \" + module_list[i] + \" will cover \" + topic_list[i] for i in range(num_topics)]\n",
    "print(message_list)\n"
   ]
  },
  {
   "cell_type": "code",
   "execution_count": 24,
   "metadata": {},
   "outputs": [
    {
     "name": "stdout",
     "output_type": "stream",
     "text": [
      "[1, 4, 9, 16, 25, 36, 49]\n"
     ]
    }
   ],
   "source": [
    "# Example 2: Math operations\n",
    "x_list = [ 1,2,3,4,5,6,7  ]\n",
    "\n",
    "x_sqr_list = [ x**2 for x in x_list ]\n",
    "print(x_sqr_list)"
   ]
  },
  {
   "attachments": {},
   "cell_type": "markdown",
   "metadata": {},
   "source": [
    "<font size = \"5\">\n",
    "\n",
    "Skipping iterations: Continue\n",
    "\n",
    "- Combine it with if/else\n",
    "- Useful for running loop for a subset of elements in list"
   ]
  },
  {
   "cell_type": "code",
   "execution_count": 25,
   "metadata": {},
   "outputs": [
    {
     "name": "stdout",
     "output_type": "stream",
     "text": [
      "1\n",
      "2\n",
      "5\n"
     ]
    }
   ],
   "source": [
    "# The isinstance(value,int) function checks whether \"value\" is an integer.UserWarning\n",
    "# The code will skip the remainder of any iteration when \"continue' is called.\n",
    "\n",
    "list_mixed = [1,2,\"text_message\",5]\n",
    "\n",
    "for value in list_mixed:\n",
    "    if(not isinstance(value,int)):\n",
    "        continue\n",
    "    print(value)"
   ]
  },
  {
   "attachments": {},
   "cell_type": "markdown",
   "metadata": {},
   "source": [
    "<font size = \"5\">\n",
    "\n",
    "Stopping the loop: Breaking\n"
   ]
  },
  {
   "cell_type": "code",
   "execution_count": 26,
   "metadata": {},
   "outputs": [
    {
     "name": "stdout",
     "output_type": "stream",
     "text": [
      "1\n",
      "2\n",
      "Stopped: There is an element in your list that isn't an integer\n"
     ]
    }
   ],
   "source": [
    "# In the same example as above, we can use \"break\" to stop the loop altogether\n",
    "\n",
    "list_mixed = [1,2,\"text_message\",5]\n",
    "\n",
    "for value in list_mixed:\n",
    "    if(not isinstance(value,int)):\n",
    "        print(\"Stopped: There is an element in your list that isn't an integer\")\n",
    "        break\n",
    "    print(value)"
   ]
  }
 ],
 "metadata": {
  "kernelspec": {
   "display_name": "base",
   "language": "python",
   "name": "python3"
  },
  "language_info": {
   "codemirror_mode": {
    "name": "ipython",
    "version": 3
   },
   "file_extension": ".py",
   "mimetype": "text/x-python",
   "name": "python",
   "nbconvert_exporter": "python",
   "pygments_lexer": "ipython3",
   "version": "3.10.2"
  },
  "orig_nbformat": 4,
  "vscode": {
   "interpreter": {
    "hash": "45fc1f684f6f416f40889115beff3ddf69879b64cf4bfee48cb72a61e9d15d1a"
   }
  }
 },
 "nbformat": 4,
 "nbformat_minor": 2
}
