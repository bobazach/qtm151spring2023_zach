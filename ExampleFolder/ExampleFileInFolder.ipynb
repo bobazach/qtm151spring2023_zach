{
 "cells": [
  {
   "cell_type": "markdown",
   "metadata": {},
   "source": [
    "Here is an example of a python notebook file nested within a folder."
   ]
  }
 ],
 "metadata": {
  "language_info": {
   "name": "python"
  },
  "orig_nbformat": 4
 },
 "nbformat": 4,
 "nbformat_minor": 2
}
