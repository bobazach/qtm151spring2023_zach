{
 "cells": [
  {
   "attachments": {},
   "cell_type": "markdown",
   "metadata": {},
   "source": [
    "# <span style=\"color:darkblue\"> Lecture 21 - Time Data </span>\n",
    "\n",
    "<font size = \"5\">\n",
    "\n",
    "In  the last lecture we ...\n",
    "- Completed the module on SQL\n",
    "- Learned about escape characters\n",
    "\n",
    "\n",
    "In  this lecture we will ...\n",
    "\n",
    "- Process time data in Python\n",
    "- Learn about wildcards"
   ]
  },
  {
   "attachments": {},
   "cell_type": "markdown",
   "metadata": {},
   "source": [
    "# <span style=\"color:darkblue\"> I. Import Libraries and Data </span>"
   ]
  },
  {
   "cell_type": "markdown",
   "metadata": {},
   "source": [
    "<font size = \"5\">\n",
    "\n",
    "Import libraries"
   ]
  },
  {
   "cell_type": "code",
   "execution_count": 1,
   "metadata": {},
   "outputs": [],
   "source": [
    "# \"pandas\" processes datasets\n",
    "# \"maplotlib.pyplot\" generates graphs\n",
    "# \"maplotlib.dates\" has advanced options for plotting dates\n",
    "# \"datetime\" handles date information\n",
    "\n",
    "import pandas as pd\n",
    "import matplotlib.pyplot as plt\n",
    "import matplotlib.dates as mdates\n",
    "from datetime import date, time, datetime"
   ]
  },
  {
   "attachments": {},
   "cell_type": "markdown",
   "metadata": {},
   "source": [
    "<font size = \"5\">\n",
    "\n",
    "Import data"
   ]
  },
  {
   "cell_type": "code",
   "execution_count": 2,
   "metadata": {},
   "outputs": [],
   "source": [
    "financial = pd.read_csv(\"data_raw/financial.csv\")"
   ]
  },
  {
   "attachments": {},
   "cell_type": "markdown",
   "metadata": {},
   "source": [
    "<font size = \"5\">\n",
    "\n",
    "\"Parse\" time columns"
   ]
  },
  {
   "cell_type": "code",
   "execution_count": 7,
   "metadata": {},
   "outputs": [
    {
     "data": {
      "text/html": [
       "<div>\n",
       "<style scoped>\n",
       "    .dataframe tbody tr th:only-of-type {\n",
       "        vertical-align: middle;\n",
       "    }\n",
       "\n",
       "    .dataframe tbody tr th {\n",
       "        vertical-align: top;\n",
       "    }\n",
       "\n",
       "    .dataframe thead th {\n",
       "        text-align: right;\n",
       "    }\n",
       "</style>\n",
       "<table border=\"1\" class=\"dataframe\">\n",
       "  <thead>\n",
       "    <tr style=\"text-align: right;\">\n",
       "      <th></th>\n",
       "      <th>Unnamed: 0</th>\n",
       "      <th>date_str</th>\n",
       "      <th>sp500</th>\n",
       "      <th>djia</th>\n",
       "      <th>date_ex1</th>\n",
       "      <th>date_ex2</th>\n",
       "      <th>date_ex3</th>\n",
       "      <th>date</th>\n",
       "    </tr>\n",
       "  </thead>\n",
       "  <tbody>\n",
       "    <tr>\n",
       "      <th>0</th>\n",
       "      <td>0</td>\n",
       "      <td>2018-04-04</td>\n",
       "      <td>2644.69</td>\n",
       "      <td>24264.30</td>\n",
       "      <td>April 04 2018</td>\n",
       "      <td>Wednesday, 2018-04-04</td>\n",
       "      <td>Apr-04, 18</td>\n",
       "      <td>2018-04-04</td>\n",
       "    </tr>\n",
       "    <tr>\n",
       "      <th>1</th>\n",
       "      <td>1</td>\n",
       "      <td>2018-04-05</td>\n",
       "      <td>2662.84</td>\n",
       "      <td>24505.22</td>\n",
       "      <td>April 05 2018</td>\n",
       "      <td>Thursday, 2018-04-05</td>\n",
       "      <td>Apr-05, 18</td>\n",
       "      <td>2018-04-05</td>\n",
       "    </tr>\n",
       "    <tr>\n",
       "      <th>2</th>\n",
       "      <td>2</td>\n",
       "      <td>2018-04-06</td>\n",
       "      <td>2604.47</td>\n",
       "      <td>23932.76</td>\n",
       "      <td>April 06 2018</td>\n",
       "      <td>Friday, 2018-04-06</td>\n",
       "      <td>Apr-06, 18</td>\n",
       "      <td>2018-04-06</td>\n",
       "    </tr>\n",
       "    <tr>\n",
       "      <th>3</th>\n",
       "      <td>3</td>\n",
       "      <td>2018-04-09</td>\n",
       "      <td>2613.16</td>\n",
       "      <td>23979.10</td>\n",
       "      <td>April 09 2018</td>\n",
       "      <td>Monday, 2018-04-09</td>\n",
       "      <td>Apr-09, 18</td>\n",
       "      <td>2018-04-09</td>\n",
       "    </tr>\n",
       "    <tr>\n",
       "      <th>4</th>\n",
       "      <td>4</td>\n",
       "      <td>2018-04-10</td>\n",
       "      <td>2656.87</td>\n",
       "      <td>24408.00</td>\n",
       "      <td>April 10 2018</td>\n",
       "      <td>Tuesday, 2018-04-10</td>\n",
       "      <td>Apr-10, 18</td>\n",
       "      <td>2018-04-10</td>\n",
       "    </tr>\n",
       "    <tr>\n",
       "      <th>...</th>\n",
       "      <td>...</td>\n",
       "      <td>...</td>\n",
       "      <td>...</td>\n",
       "      <td>...</td>\n",
       "      <td>...</td>\n",
       "      <td>...</td>\n",
       "      <td>...</td>\n",
       "      <td>...</td>\n",
       "    </tr>\n",
       "    <tr>\n",
       "      <th>1300</th>\n",
       "      <td>1300</td>\n",
       "      <td>2023-03-29</td>\n",
       "      <td>4027.81</td>\n",
       "      <td>32717.60</td>\n",
       "      <td>March 29 2023</td>\n",
       "      <td>Wednesday, 2023-03-29</td>\n",
       "      <td>Mar-29, 23</td>\n",
       "      <td>2023-03-29</td>\n",
       "    </tr>\n",
       "    <tr>\n",
       "      <th>1301</th>\n",
       "      <td>1301</td>\n",
       "      <td>2023-03-30</td>\n",
       "      <td>4050.83</td>\n",
       "      <td>32859.03</td>\n",
       "      <td>March 30 2023</td>\n",
       "      <td>Thursday, 2023-03-30</td>\n",
       "      <td>Mar-30, 23</td>\n",
       "      <td>2023-03-30</td>\n",
       "    </tr>\n",
       "    <tr>\n",
       "      <th>1302</th>\n",
       "      <td>1302</td>\n",
       "      <td>2023-03-31</td>\n",
       "      <td>4109.31</td>\n",
       "      <td>33274.15</td>\n",
       "      <td>March 31 2023</td>\n",
       "      <td>Friday, 2023-03-31</td>\n",
       "      <td>Mar-31, 23</td>\n",
       "      <td>2023-03-31</td>\n",
       "    </tr>\n",
       "    <tr>\n",
       "      <th>1303</th>\n",
       "      <td>1303</td>\n",
       "      <td>2023-04-03</td>\n",
       "      <td>4124.51</td>\n",
       "      <td>33601.15</td>\n",
       "      <td>April 03 2023</td>\n",
       "      <td>Monday, 2023-04-03</td>\n",
       "      <td>Apr-03, 23</td>\n",
       "      <td>2023-04-03</td>\n",
       "    </tr>\n",
       "    <tr>\n",
       "      <th>1304</th>\n",
       "      <td>1304</td>\n",
       "      <td>2023-04-04</td>\n",
       "      <td>4100.60</td>\n",
       "      <td>33402.38</td>\n",
       "      <td>April 04 2023</td>\n",
       "      <td>Tuesday, 2023-04-04</td>\n",
       "      <td>Apr-04, 23</td>\n",
       "      <td>2023-04-04</td>\n",
       "    </tr>\n",
       "  </tbody>\n",
       "</table>\n",
       "<p>1305 rows × 8 columns</p>\n",
       "</div>"
      ],
      "text/plain": [
       "      Unnamed: 0    date_str    sp500      djia       date_ex1  \\\n",
       "0              0  2018-04-04  2644.69  24264.30  April 04 2018   \n",
       "1              1  2018-04-05  2662.84  24505.22  April 05 2018   \n",
       "2              2  2018-04-06  2604.47  23932.76  April 06 2018   \n",
       "3              3  2018-04-09  2613.16  23979.10  April 09 2018   \n",
       "4              4  2018-04-10  2656.87  24408.00  April 10 2018   \n",
       "...          ...         ...      ...       ...            ...   \n",
       "1300        1300  2023-03-29  4027.81  32717.60  March 29 2023   \n",
       "1301        1301  2023-03-30  4050.83  32859.03  March 30 2023   \n",
       "1302        1302  2023-03-31  4109.31  33274.15  March 31 2023   \n",
       "1303        1303  2023-04-03  4124.51  33601.15  April 03 2023   \n",
       "1304        1304  2023-04-04  4100.60  33402.38  April 04 2023   \n",
       "\n",
       "                   date_ex2    date_ex3       date  \n",
       "0     Wednesday, 2018-04-04  Apr-04, 18 2018-04-04  \n",
       "1      Thursday, 2018-04-05  Apr-05, 18 2018-04-05  \n",
       "2        Friday, 2018-04-06  Apr-06, 18 2018-04-06  \n",
       "3        Monday, 2018-04-09  Apr-09, 18 2018-04-09  \n",
       "4       Tuesday, 2018-04-10  Apr-10, 18 2018-04-10  \n",
       "...                     ...         ...        ...  \n",
       "1300  Wednesday, 2023-03-29  Mar-29, 23 2023-03-29  \n",
       "1301   Thursday, 2023-03-30  Mar-30, 23 2023-03-30  \n",
       "1302     Friday, 2023-03-31  Mar-31, 23 2023-03-31  \n",
       "1303     Monday, 2023-04-03  Apr-03, 23 2023-04-03  \n",
       "1304    Tuesday, 2023-04-04  Apr-04, 23 2023-04-04  \n",
       "\n",
       "[1305 rows x 8 columns]"
      ]
     },
     "metadata": {},
     "output_type": "display_data"
    }
   ],
   "source": [
    "# Convert string column to datetime format\n",
    "# If the date format is simple, you can also parse on input as\n",
    "# financial = pd.read_csv(\"data_raw/financial.csv\",parse_dates = [\"date\"]\n",
    "# See advanced options for parsing further in the lecture...\n",
    "\n",
    "financial[\"date\"] = pd.to_datetime(financial[\"date_str\"])\n",
    "display(financial)"
   ]
  },
  {
   "attachments": {},
   "cell_type": "markdown",
   "metadata": {},
   "source": [
    "<font size = \"5\">\n",
    "\n",
    "Check Types"
   ]
  },
  {
   "cell_type": "code",
   "execution_count": 8,
   "metadata": {},
   "outputs": [
    {
     "data": {
      "text/plain": [
       "Unnamed: 0             int64\n",
       "date_str              object\n",
       "sp500                float64\n",
       "djia                 float64\n",
       "date_ex1              object\n",
       "date_ex2              object\n",
       "date_ex3              object\n",
       "date          datetime64[ns]\n",
       "dtype: object"
      ]
     },
     "execution_count": 8,
     "metadata": {},
     "output_type": "execute_result"
    }
   ],
   "source": [
    "# Standard data types are \"int\", \"str\", \"float\", and \"bool\"\n",
    "# There is also a \"datetime\" types\n",
    "\n",
    "financial.dtypes"
   ]
  },
  {
   "attachments": {},
   "cell_type": "markdown",
   "metadata": {},
   "source": [
    "<font size = \"5\">\n",
    "\n",
    "Visualize time data"
   ]
  },
  {
   "cell_type": "code",
   "execution_count": 9,
   "metadata": {},
   "outputs": [
    {
     "data": {
      "text/plain": [
       "Text(0.5, 1.0, 'The evolution of the stock market')"
      ]
     },
     "execution_count": 9,
     "metadata": {},
     "output_type": "execute_result"
    },
    {
     "data": {
      "image/png": "[encoded data removed]",
      "text/plain": [
       "<Figure size 432x288 with 1 Axes>"
      ]
     },
     "metadata": {
      "needs_background": "light"
     },
     "output_type": "display_data"
    }
   ],
   "source": [
    "# plt.plot() is used to create line plots\n",
    "# The first two arguments are column names for the (x,y) data\n",
    "# The third argument is the data\n",
    "\n",
    "plt.plot(\"date\", \"sp500\", data = financial)\n",
    "plt.xlabel(\"Time\")\n",
    "plt.ylabel(\"S&P 500 Index\")\n",
    "plt.title(\"The evolution of the stock market\")\n"
   ]
  },
  {
   "attachments": {},
   "cell_type": "markdown",
   "metadata": {},
   "source": [
    "<font size = \"5\">\n",
    "\n",
    "S&P 500 tracks the average performance of <br>\n",
    "of the largest companies in the US stock market\n",
    "\n",
    "$\\quad$ https://en.wikipedia.org/wiki/S%26P_500 <br>\n",
    "$\\quad$ https://fred.stlouisfed.org/series/SP500"
   ]
  },
  {
   "attachments": {},
   "cell_type": "markdown",
   "metadata": {},
   "source": [
    "<font size = \"5\">\n",
    "\n",
    "Try it yourself!\n",
    "\n",
    "- Generate a line plot which has the Dow Jones <br>\n",
    "Industrial Index (\"djia\") on the y-axis and <br>\n",
    "\"date\" on the x-axis."
   ]
  },
  {
   "cell_type": "code",
   "execution_count": 11,
   "metadata": {},
   "outputs": [
    {
     "data": {
      "text/plain": [
       "Text(0.5, 1.0, 'Evolution of the Dow Jones Stock Market')"
      ]
     },
     "execution_count": 11,
     "metadata": {},
     "output_type": "execute_result"
    },
    {
     "data": {
      "image/png": "[encoded data removed]",
      "text/plain": [
       "<Figure size 432x288 with 1 Axes>"
      ]
     },
     "metadata": {
      "needs_background": "light"
     },
     "output_type": "display_data"
    }
   ],
   "source": [
    "# Write your own code\n",
    "plt.plot(\"date\", \"djia\", data = financial)\n",
    "plt.xlabel(\"Time\")\n",
    "plt.ylabel(\"Dow Jones\")\n",
    "plt.title(\"Evolution of the Dow Jones Stock Market\")"
   ]
  },
  {
   "attachments": {},
   "cell_type": "markdown",
   "metadata": {},
   "source": [
    "# <span style=\"color:darkblue\"> II. Dates + Wild Cards  </span>"
   ]
  },
  {
   "attachments": {},
   "cell_type": "markdown",
   "metadata": {},
   "source": [
    "<font size = \"5\">\n",
    "\n",
    "Convert to string (a)\n",
    "\n",
    "\n",
    "- A wildcard ```%``` is used to denote date formats\n",
    "- Useful when working with text data\n",
    "\n",
    "$\\quad$ <img src=\"figures/wildcards_fig1.png\" alt=\"drawing\" width=\"300\"/>"
   ]
  },
  {
   "cell_type": "code",
   "execution_count": 12,
   "metadata": {},
   "outputs": [
    {
     "data": {
      "text/html": [
       "<div>\n",
       "<style scoped>\n",
       "    .dataframe tbody tr th:only-of-type {\n",
       "        vertical-align: middle;\n",
       "    }\n",
       "\n",
       "    .dataframe tbody tr th {\n",
       "        vertical-align: top;\n",
       "    }\n",
       "\n",
       "    .dataframe thead th {\n",
       "        text-align: right;\n",
       "    }\n",
       "</style>\n",
       "<table border=\"1\" class=\"dataframe\">\n",
       "  <thead>\n",
       "    <tr style=\"text-align: right;\">\n",
       "      <th></th>\n",
       "      <th>Unnamed: 0</th>\n",
       "      <th>date_str</th>\n",
       "      <th>sp500</th>\n",
       "      <th>djia</th>\n",
       "      <th>date_ex1</th>\n",
       "      <th>date_ex2</th>\n",
       "      <th>date_ex3</th>\n",
       "      <th>date</th>\n",
       "      <th>month_str</th>\n",
       "      <th>week_str</th>\n",
       "    </tr>\n",
       "  </thead>\n",
       "  <tbody>\n",
       "    <tr>\n",
       "      <th>0</th>\n",
       "      <td>0</td>\n",
       "      <td>2018-04-04</td>\n",
       "      <td>2644.69</td>\n",
       "      <td>24264.30</td>\n",
       "      <td>April 04 2018</td>\n",
       "      <td>Wednesday, 2018-04-04</td>\n",
       "      <td>Apr-04, 18</td>\n",
       "      <td>2018-04-04</td>\n",
       "      <td>04</td>\n",
       "      <td>14</td>\n",
       "    </tr>\n",
       "    <tr>\n",
       "      <th>1</th>\n",
       "      <td>1</td>\n",
       "      <td>2018-04-05</td>\n",
       "      <td>2662.84</td>\n",
       "      <td>24505.22</td>\n",
       "      <td>April 05 2018</td>\n",
       "      <td>Thursday, 2018-04-05</td>\n",
       "      <td>Apr-05, 18</td>\n",
       "      <td>2018-04-05</td>\n",
       "      <td>04</td>\n",
       "      <td>14</td>\n",
       "    </tr>\n",
       "    <tr>\n",
       "      <th>2</th>\n",
       "      <td>2</td>\n",
       "      <td>2018-04-06</td>\n",
       "      <td>2604.47</td>\n",
       "      <td>23932.76</td>\n",
       "      <td>April 06 2018</td>\n",
       "      <td>Friday, 2018-04-06</td>\n",
       "      <td>Apr-06, 18</td>\n",
       "      <td>2018-04-06</td>\n",
       "      <td>04</td>\n",
       "      <td>14</td>\n",
       "    </tr>\n",
       "    <tr>\n",
       "      <th>3</th>\n",
       "      <td>3</td>\n",
       "      <td>2018-04-09</td>\n",
       "      <td>2613.16</td>\n",
       "      <td>23979.10</td>\n",
       "      <td>April 09 2018</td>\n",
       "      <td>Monday, 2018-04-09</td>\n",
       "      <td>Apr-09, 18</td>\n",
       "      <td>2018-04-09</td>\n",
       "      <td>04</td>\n",
       "      <td>15</td>\n",
       "    </tr>\n",
       "    <tr>\n",
       "      <th>4</th>\n",
       "      <td>4</td>\n",
       "      <td>2018-04-10</td>\n",
       "      <td>2656.87</td>\n",
       "      <td>24408.00</td>\n",
       "      <td>April 10 2018</td>\n",
       "      <td>Tuesday, 2018-04-10</td>\n",
       "      <td>Apr-10, 18</td>\n",
       "      <td>2018-04-10</td>\n",
       "      <td>04</td>\n",
       "      <td>15</td>\n",
       "    </tr>\n",
       "    <tr>\n",
       "      <th>...</th>\n",
       "      <td>...</td>\n",
       "      <td>...</td>\n",
       "      <td>...</td>\n",
       "      <td>...</td>\n",
       "      <td>...</td>\n",
       "      <td>...</td>\n",
       "      <td>...</td>\n",
       "      <td>...</td>\n",
       "      <td>...</td>\n",
       "      <td>...</td>\n",
       "    </tr>\n",
       "    <tr>\n",
       "      <th>1300</th>\n",
       "      <td>1300</td>\n",
       "      <td>2023-03-29</td>\n",
       "      <td>4027.81</td>\n",
       "      <td>32717.60</td>\n",
       "      <td>March 29 2023</td>\n",
       "      <td>Wednesday, 2023-03-29</td>\n",
       "      <td>Mar-29, 23</td>\n",
       "      <td>2023-03-29</td>\n",
       "      <td>03</td>\n",
       "      <td>13</td>\n",
       "    </tr>\n",
       "    <tr>\n",
       "      <th>1301</th>\n",
       "      <td>1301</td>\n",
       "      <td>2023-03-30</td>\n",
       "      <td>4050.83</td>\n",
       "      <td>32859.03</td>\n",
       "      <td>March 30 2023</td>\n",
       "      <td>Thursday, 2023-03-30</td>\n",
       "      <td>Mar-30, 23</td>\n",
       "      <td>2023-03-30</td>\n",
       "      <td>03</td>\n",
       "      <td>13</td>\n",
       "    </tr>\n",
       "    <tr>\n",
       "      <th>1302</th>\n",
       "      <td>1302</td>\n",
       "      <td>2023-03-31</td>\n",
       "      <td>4109.31</td>\n",
       "      <td>33274.15</td>\n",
       "      <td>March 31 2023</td>\n",
       "      <td>Friday, 2023-03-31</td>\n",
       "      <td>Mar-31, 23</td>\n",
       "      <td>2023-03-31</td>\n",
       "      <td>03</td>\n",
       "      <td>13</td>\n",
       "    </tr>\n",
       "    <tr>\n",
       "      <th>1303</th>\n",
       "      <td>1303</td>\n",
       "      <td>2023-04-03</td>\n",
       "      <td>4124.51</td>\n",
       "      <td>33601.15</td>\n",
       "      <td>April 03 2023</td>\n",
       "      <td>Monday, 2023-04-03</td>\n",
       "      <td>Apr-03, 23</td>\n",
       "      <td>2023-04-03</td>\n",
       "      <td>04</td>\n",
       "      <td>14</td>\n",
       "    </tr>\n",
       "    <tr>\n",
       "      <th>1304</th>\n",
       "      <td>1304</td>\n",
       "      <td>2023-04-04</td>\n",
       "      <td>4100.60</td>\n",
       "      <td>33402.38</td>\n",
       "      <td>April 04 2023</td>\n",
       "      <td>Tuesday, 2023-04-04</td>\n",
       "      <td>Apr-04, 23</td>\n",
       "      <td>2023-04-04</td>\n",
       "      <td>04</td>\n",
       "      <td>14</td>\n",
       "    </tr>\n",
       "  </tbody>\n",
       "</table>\n",
       "<p>1305 rows × 10 columns</p>\n",
       "</div>"
      ],
      "text/plain": [
       "      Unnamed: 0    date_str    sp500      djia       date_ex1  \\\n",
       "0              0  2018-04-04  2644.69  24264.30  April 04 2018   \n",
       "1              1  2018-04-05  2662.84  24505.22  April 05 2018   \n",
       "2              2  2018-04-06  2604.47  23932.76  April 06 2018   \n",
       "3              3  2018-04-09  2613.16  23979.10  April 09 2018   \n",
       "4              4  2018-04-10  2656.87  24408.00  April 10 2018   \n",
       "...          ...         ...      ...       ...            ...   \n",
       "1300        1300  2023-03-29  4027.81  32717.60  March 29 2023   \n",
       "1301        1301  2023-03-30  4050.83  32859.03  March 30 2023   \n",
       "1302        1302  2023-03-31  4109.31  33274.15  March 31 2023   \n",
       "1303        1303  2023-04-03  4124.51  33601.15  April 03 2023   \n",
       "1304        1304  2023-04-04  4100.60  33402.38  April 04 2023   \n",
       "\n",
       "                   date_ex2    date_ex3       date month_str week_str  \n",
       "0     Wednesday, 2018-04-04  Apr-04, 18 2018-04-04        04       14  \n",
       "1      Thursday, 2018-04-05  Apr-05, 18 2018-04-05        04       14  \n",
       "2        Friday, 2018-04-06  Apr-06, 18 2018-04-06        04       14  \n",
       "3        Monday, 2018-04-09  Apr-09, 18 2018-04-09        04       15  \n",
       "4       Tuesday, 2018-04-10  Apr-10, 18 2018-04-10        04       15  \n",
       "...                     ...         ...        ...       ...      ...  \n",
       "1300  Wednesday, 2023-03-29  Mar-29, 23 2023-03-29        03       13  \n",
       "1301   Thursday, 2023-03-30  Mar-30, 23 2023-03-30        03       13  \n",
       "1302     Friday, 2023-03-31  Mar-31, 23 2023-03-31        03       13  \n",
       "1303     Monday, 2023-04-03  Apr-03, 23 2023-04-03        04       14  \n",
       "1304    Tuesday, 2023-04-04  Apr-04, 23 2023-04-04        04       14  \n",
       "\n",
       "[1305 rows x 10 columns]"
      ]
     },
     "metadata": {},
     "output_type": "display_data"
    },
    {
     "data": {
      "text/plain": [
       "Unnamed: 0             int64\n",
       "date_str              object\n",
       "sp500                float64\n",
       "djia                 float64\n",
       "date_ex1              object\n",
       "date_ex2              object\n",
       "date_ex3              object\n",
       "date          datetime64[ns]\n",
       "month_str             object\n",
       "week_str              object\n",
       "dtype: object"
      ]
     },
     "execution_count": 12,
     "metadata": {},
     "output_type": "execute_result"
    }
   ],
   "source": [
    "# \"String from time\" .dt.strftime()\n",
    "# The first argument needs to be a datetime type \n",
    "# The second argument is the format you want to use\n",
    "# Note: \"dt\" stands for datatime\n",
    "\n",
    "financial[\"month_str\"] = financial[\"date\"].dt.strftime(\"%m\")\n",
    "financial[\"week_str\"]  = financial[\"date\"].dt.strftime(\"%W\")\n",
    "display(financial)\n",
    "financial.dtypes\n"
   ]
  },
  {
   "attachments": {},
   "cell_type": "markdown",
   "metadata": {},
   "source": [
    "<font size = \"5\">\n",
    "\n",
    "Convert to string (b)\n",
    "\n",
    "$\\quad$ <img src=\"figures/wildcards_fig2.png\" alt=\"drawing\" width=\"400\"/>"
   ]
  },
  {
   "cell_type": "code",
   "execution_count": 14,
   "metadata": {},
   "outputs": [
    {
     "data": {
      "text/plain": [
       "Unnamed: 0              int64\n",
       "date_str               object\n",
       "sp500                 float64\n",
       "djia                  float64\n",
       "date_ex1               object\n",
       "date_ex2               object\n",
       "date_ex3               object\n",
       "date           datetime64[ns]\n",
       "month_str              object\n",
       "week_str               object\n",
       "monthname              object\n",
       "weekdayname            object\n",
       "dtype: object"
      ]
     },
     "execution_count": 14,
     "metadata": {},
     "output_type": "execute_result"
    }
   ],
   "source": [
    "financial[\"monthname\"]   =  financial[\"date\"].dt.strftime(\"%B\")\n",
    "financial[\"weekdayname\"] =  financial[\"date\"].dt.strftime(\"%A\")\n",
    "financial.dtypes"
   ]
  },
  {
   "attachments": {},
   "cell_type": "markdown",
   "metadata": {},
   "source": [
    "<font size = \"5\">\n",
    "\n",
    "Personalized format"
   ]
  },
  {
   "cell_type": "code",
   "execution_count": 18,
   "metadata": {},
   "outputs": [
    {
     "data": {
      "text/plain": [
       "0       The day of the week is Wednesday\n",
       "1        The day of the week is Thursday\n",
       "2          The day of the week is Friday\n",
       "3          The day of the week is Monday\n",
       "4         The day of the week is Tuesday\n",
       "                      ...               \n",
       "1300    The day of the week is Wednesday\n",
       "1301     The day of the week is Thursday\n",
       "1302       The day of the week is Friday\n",
       "1303       The day of the week is Monday\n",
       "1304      The day of the week is Tuesday\n",
       "Name: date, Length: 1305, dtype: object"
      ]
     },
     "metadata": {},
     "output_type": "display_data"
    }
   ],
   "source": [
    "# Insert wildcards inside custom strings\n",
    "# Internally it will \"fill-in-the-blank\" with the corresponding information\n",
    "# You can use commas, dashes (--), slash (/) or other characters\n",
    "\n",
    "message_monthname =  financial[\"date\"].dt.strftime(\"This is the month of %B\")\n",
    "message_monthday  =  financial[\"date\"].dt.strftime(\"The day of the week is %A\")\n",
    "message_yearmonth =  financial[\"date\"].dt.strftime(\"%Y-%m\")\n",
    "\n",
    "# display(message_monthname)\n",
    "display(message_monthday)\n"
   ]
  },
  {
   "attachments": {},
   "cell_type": "markdown",
   "metadata": {},
   "source": [
    "<font size = \"5\">\n",
    "\n",
    "Try it yourself!\n",
    "\n",
    "- Create a new column called \"date_test\" <br>\n",
    "  which has the format using ```.dt.strftime()```\n",
    "  \n",
    "$\\quad$ ```Monday, December 31, 2023 ```"
   ]
  },
  {
   "cell_type": "code",
   "execution_count": 19,
   "metadata": {},
   "outputs": [
    {
     "data": {
      "text/plain": [
       "0       Wednesday, April 04, 2018\n",
       "1        Thursday, April 05, 2018\n",
       "2          Friday, April 06, 2018\n",
       "3          Monday, April 09, 2018\n",
       "4         Tuesday, April 10, 2018\n",
       "                  ...            \n",
       "1300    Wednesday, March 29, 2023\n",
       "1301     Thursday, March 30, 2023\n",
       "1302       Friday, March 31, 2023\n",
       "1303       Monday, April 03, 2023\n",
       "1304      Tuesday, April 04, 2023\n",
       "Name: date, Length: 1305, dtype: object"
      ]
     },
     "metadata": {},
     "output_type": "display_data"
    }
   ],
   "source": [
    "# Write your own code\n",
    "message_yearmonth =  financial[\"date\"].dt.strftime(\"%Y-%m\")\n",
    "date_test = financial[\"date\"].dt.strftime(\"%A, %B %d, %Y\")\n",
    "display(date_test)\n"
   ]
  },
  {
   "attachments": {},
   "cell_type": "markdown",
   "metadata": {},
   "source": [
    "# <span style=\"color:darkblue\"> III. Data Operations </span>"
   ]
  },
  {
   "attachments": {},
   "cell_type": "markdown",
   "metadata": {},
   "source": [
    "<font size = \"5\">\n",
    "\n",
    "Parsing + wild cards\n",
    "\n",
    "$\\quad$ <img src=\"figures/wildcards_fig3.png\" alt=\"drawing\" width=\"400\"/>"
   ]
  },
  {
   "cell_type": "code",
   "execution_count": 20,
   "metadata": {},
   "outputs": [
    {
     "data": {
      "text/plain": [
       "0      2018-04-04\n",
       "1      2018-04-05\n",
       "2      2018-04-06\n",
       "3      2018-04-09\n",
       "4      2018-04-10\n",
       "          ...    \n",
       "1300   2023-03-29\n",
       "1301   2023-03-30\n",
       "1302   2023-03-31\n",
       "1303   2023-04-03\n",
       "1304   2023-04-04\n",
       "Name: date_ex1, Length: 1305, dtype: datetime64[ns]"
      ]
     },
     "metadata": {},
     "output_type": "display_data"
    },
    {
     "data": {
      "text/plain": [
       "0      2018-04-04\n",
       "1      2018-04-05\n",
       "2      2018-04-06\n",
       "3      2018-04-09\n",
       "4      2018-04-10\n",
       "          ...    \n",
       "1300   2023-03-29\n",
       "1301   2023-03-30\n",
       "1302   2023-03-31\n",
       "1303   2023-04-03\n",
       "1304   2023-04-04\n",
       "Name: date_ex2, Length: 1305, dtype: datetime64[ns]"
      ]
     },
     "metadata": {},
     "output_type": "display_data"
    }
   ],
   "source": [
    "# Combine wildcards + characters depending on the input\n",
    "# Can include spaces, commas, \"/\", \"-\" or any other formatting\n",
    "# Be careful to include the wildcar letters in upper or lower case \n",
    "# depending on the intended format \n",
    "\n",
    "date1 = pd.to_datetime(financial[\"date_ex1\"], format = \"%B %d %Y\")\n",
    "date2 = pd.to_datetime(financial[\"date_ex2\"], format = \"%A, %Y-%m-%d\")\n",
    "\n",
    "display(date1)\n",
    "display(date2)"
   ]
  },
  {
   "attachments": {},
   "cell_type": "markdown",
   "metadata": {},
   "source": [
    "<font size = \"5\">\n",
    "\n",
    "Period grouping"
   ]
  },
  {
   "cell_type": "code",
   "execution_count": 21,
   "metadata": {},
   "outputs": [
    {
     "data": {
      "text/html": [
       "<div>\n",
       "<style scoped>\n",
       "    .dataframe tbody tr th:only-of-type {\n",
       "        vertical-align: middle;\n",
       "    }\n",
       "\n",
       "    .dataframe tbody tr th {\n",
       "        vertical-align: top;\n",
       "    }\n",
       "\n",
       "    .dataframe thead th {\n",
       "        text-align: right;\n",
       "    }\n",
       "</style>\n",
       "<table border=\"1\" class=\"dataframe\">\n",
       "  <thead>\n",
       "    <tr style=\"text-align: right;\">\n",
       "      <th></th>\n",
       "      <th>Unnamed: 0</th>\n",
       "      <th>date_str</th>\n",
       "      <th>sp500</th>\n",
       "      <th>djia</th>\n",
       "      <th>date_ex1</th>\n",
       "      <th>date_ex2</th>\n",
       "      <th>date_ex3</th>\n",
       "      <th>date</th>\n",
       "      <th>month_str</th>\n",
       "      <th>week_str</th>\n",
       "      <th>monthname</th>\n",
       "      <th>weekdayname</th>\n",
       "      <th>week</th>\n",
       "    </tr>\n",
       "  </thead>\n",
       "  <tbody>\n",
       "    <tr>\n",
       "      <th>0</th>\n",
       "      <td>0</td>\n",
       "      <td>2018-04-04</td>\n",
       "      <td>2644.69</td>\n",
       "      <td>24264.30</td>\n",
       "      <td>April 04 2018</td>\n",
       "      <td>Wednesday, 2018-04-04</td>\n",
       "      <td>Apr-04, 18</td>\n",
       "      <td>2018-04-04</td>\n",
       "      <td>04</td>\n",
       "      <td>14</td>\n",
       "      <td>April</td>\n",
       "      <td>Wednesday</td>\n",
       "      <td>2018-04-02/2018-04-08</td>\n",
       "    </tr>\n",
       "    <tr>\n",
       "      <th>1</th>\n",
       "      <td>1</td>\n",
       "      <td>2018-04-05</td>\n",
       "      <td>2662.84</td>\n",
       "      <td>24505.22</td>\n",
       "      <td>April 05 2018</td>\n",
       "      <td>Thursday, 2018-04-05</td>\n",
       "      <td>Apr-05, 18</td>\n",
       "      <td>2018-04-05</td>\n",
       "      <td>04</td>\n",
       "      <td>14</td>\n",
       "      <td>April</td>\n",
       "      <td>Thursday</td>\n",
       "      <td>2018-04-02/2018-04-08</td>\n",
       "    </tr>\n",
       "    <tr>\n",
       "      <th>2</th>\n",
       "      <td>2</td>\n",
       "      <td>2018-04-06</td>\n",
       "      <td>2604.47</td>\n",
       "      <td>23932.76</td>\n",
       "      <td>April 06 2018</td>\n",
       "      <td>Friday, 2018-04-06</td>\n",
       "      <td>Apr-06, 18</td>\n",
       "      <td>2018-04-06</td>\n",
       "      <td>04</td>\n",
       "      <td>14</td>\n",
       "      <td>April</td>\n",
       "      <td>Friday</td>\n",
       "      <td>2018-04-02/2018-04-08</td>\n",
       "    </tr>\n",
       "    <tr>\n",
       "      <th>3</th>\n",
       "      <td>3</td>\n",
       "      <td>2018-04-09</td>\n",
       "      <td>2613.16</td>\n",
       "      <td>23979.10</td>\n",
       "      <td>April 09 2018</td>\n",
       "      <td>Monday, 2018-04-09</td>\n",
       "      <td>Apr-09, 18</td>\n",
       "      <td>2018-04-09</td>\n",
       "      <td>04</td>\n",
       "      <td>15</td>\n",
       "      <td>April</td>\n",
       "      <td>Monday</td>\n",
       "      <td>2018-04-09/2018-04-15</td>\n",
       "    </tr>\n",
       "    <tr>\n",
       "      <th>4</th>\n",
       "      <td>4</td>\n",
       "      <td>2018-04-10</td>\n",
       "      <td>2656.87</td>\n",
       "      <td>24408.00</td>\n",
       "      <td>April 10 2018</td>\n",
       "      <td>Tuesday, 2018-04-10</td>\n",
       "      <td>Apr-10, 18</td>\n",
       "      <td>2018-04-10</td>\n",
       "      <td>04</td>\n",
       "      <td>15</td>\n",
       "      <td>April</td>\n",
       "      <td>Tuesday</td>\n",
       "      <td>2018-04-09/2018-04-15</td>\n",
       "    </tr>\n",
       "    <tr>\n",
       "      <th>...</th>\n",
       "      <td>...</td>\n",
       "      <td>...</td>\n",
       "      <td>...</td>\n",
       "      <td>...</td>\n",
       "      <td>...</td>\n",
       "      <td>...</td>\n",
       "      <td>...</td>\n",
       "      <td>...</td>\n",
       "      <td>...</td>\n",
       "      <td>...</td>\n",
       "      <td>...</td>\n",
       "      <td>...</td>\n",
       "      <td>...</td>\n",
       "    </tr>\n",
       "    <tr>\n",
       "      <th>1300</th>\n",
       "      <td>1300</td>\n",
       "      <td>2023-03-29</td>\n",
       "      <td>4027.81</td>\n",
       "      <td>32717.60</td>\n",
       "      <td>March 29 2023</td>\n",
       "      <td>Wednesday, 2023-03-29</td>\n",
       "      <td>Mar-29, 23</td>\n",
       "      <td>2023-03-29</td>\n",
       "      <td>03</td>\n",
       "      <td>13</td>\n",
       "      <td>March</td>\n",
       "      <td>Wednesday</td>\n",
       "      <td>2023-03-27/2023-04-02</td>\n",
       "    </tr>\n",
       "    <tr>\n",
       "      <th>1301</th>\n",
       "      <td>1301</td>\n",
       "      <td>2023-03-30</td>\n",
       "      <td>4050.83</td>\n",
       "      <td>32859.03</td>\n",
       "      <td>March 30 2023</td>\n",
       "      <td>Thursday, 2023-03-30</td>\n",
       "      <td>Mar-30, 23</td>\n",
       "      <td>2023-03-30</td>\n",
       "      <td>03</td>\n",
       "      <td>13</td>\n",
       "      <td>March</td>\n",
       "      <td>Thursday</td>\n",
       "      <td>2023-03-27/2023-04-02</td>\n",
       "    </tr>\n",
       "    <tr>\n",
       "      <th>1302</th>\n",
       "      <td>1302</td>\n",
       "      <td>2023-03-31</td>\n",
       "      <td>4109.31</td>\n",
       "      <td>33274.15</td>\n",
       "      <td>March 31 2023</td>\n",
       "      <td>Friday, 2023-03-31</td>\n",
       "      <td>Mar-31, 23</td>\n",
       "      <td>2023-03-31</td>\n",
       "      <td>03</td>\n",
       "      <td>13</td>\n",
       "      <td>March</td>\n",
       "      <td>Friday</td>\n",
       "      <td>2023-03-27/2023-04-02</td>\n",
       "    </tr>\n",
       "    <tr>\n",
       "      <th>1303</th>\n",
       "      <td>1303</td>\n",
       "      <td>2023-04-03</td>\n",
       "      <td>4124.51</td>\n",
       "      <td>33601.15</td>\n",
       "      <td>April 03 2023</td>\n",
       "      <td>Monday, 2023-04-03</td>\n",
       "      <td>Apr-03, 23</td>\n",
       "      <td>2023-04-03</td>\n",
       "      <td>04</td>\n",
       "      <td>14</td>\n",
       "      <td>April</td>\n",
       "      <td>Monday</td>\n",
       "      <td>2023-04-03/2023-04-09</td>\n",
       "    </tr>\n",
       "    <tr>\n",
       "      <th>1304</th>\n",
       "      <td>1304</td>\n",
       "      <td>2023-04-04</td>\n",
       "      <td>4100.60</td>\n",
       "      <td>33402.38</td>\n",
       "      <td>April 04 2023</td>\n",
       "      <td>Tuesday, 2023-04-04</td>\n",
       "      <td>Apr-04, 23</td>\n",
       "      <td>2023-04-04</td>\n",
       "      <td>04</td>\n",
       "      <td>14</td>\n",
       "      <td>April</td>\n",
       "      <td>Tuesday</td>\n",
       "      <td>2023-04-03/2023-04-09</td>\n",
       "    </tr>\n",
       "  </tbody>\n",
       "</table>\n",
       "<p>1305 rows × 13 columns</p>\n",
       "</div>"
      ],
      "text/plain": [
       "      Unnamed: 0    date_str    sp500      djia       date_ex1  \\\n",
       "0              0  2018-04-04  2644.69  24264.30  April 04 2018   \n",
       "1              1  2018-04-05  2662.84  24505.22  April 05 2018   \n",
       "2              2  2018-04-06  2604.47  23932.76  April 06 2018   \n",
       "3              3  2018-04-09  2613.16  23979.10  April 09 2018   \n",
       "4              4  2018-04-10  2656.87  24408.00  April 10 2018   \n",
       "...          ...         ...      ...       ...            ...   \n",
       "1300        1300  2023-03-29  4027.81  32717.60  March 29 2023   \n",
       "1301        1301  2023-03-30  4050.83  32859.03  March 30 2023   \n",
       "1302        1302  2023-03-31  4109.31  33274.15  March 31 2023   \n",
       "1303        1303  2023-04-03  4124.51  33601.15  April 03 2023   \n",
       "1304        1304  2023-04-04  4100.60  33402.38  April 04 2023   \n",
       "\n",
       "                   date_ex2    date_ex3       date month_str week_str  \\\n",
       "0     Wednesday, 2018-04-04  Apr-04, 18 2018-04-04        04       14   \n",
       "1      Thursday, 2018-04-05  Apr-05, 18 2018-04-05        04       14   \n",
       "2        Friday, 2018-04-06  Apr-06, 18 2018-04-06        04       14   \n",
       "3        Monday, 2018-04-09  Apr-09, 18 2018-04-09        04       15   \n",
       "4       Tuesday, 2018-04-10  Apr-10, 18 2018-04-10        04       15   \n",
       "...                     ...         ...        ...       ...      ...   \n",
       "1300  Wednesday, 2023-03-29  Mar-29, 23 2023-03-29        03       13   \n",
       "1301   Thursday, 2023-03-30  Mar-30, 23 2023-03-30        03       13   \n",
       "1302     Friday, 2023-03-31  Mar-31, 23 2023-03-31        03       13   \n",
       "1303     Monday, 2023-04-03  Apr-03, 23 2023-04-03        04       14   \n",
       "1304    Tuesday, 2023-04-04  Apr-04, 23 2023-04-04        04       14   \n",
       "\n",
       "     monthname weekdayname                   week  \n",
       "0        April   Wednesday  2018-04-02/2018-04-08  \n",
       "1        April    Thursday  2018-04-02/2018-04-08  \n",
       "2        April      Friday  2018-04-02/2018-04-08  \n",
       "3        April      Monday  2018-04-09/2018-04-15  \n",
       "4        April     Tuesday  2018-04-09/2018-04-15  \n",
       "...        ...         ...                    ...  \n",
       "1300     March   Wednesday  2023-03-27/2023-04-02  \n",
       "1301     March    Thursday  2023-03-27/2023-04-02  \n",
       "1302     March      Friday  2023-03-27/2023-04-02  \n",
       "1303     April      Monday  2023-04-03/2023-04-09  \n",
       "1304     April     Tuesday  2023-04-03/2023-04-09  \n",
       "\n",
       "[1305 rows x 13 columns]"
      ]
     },
     "metadata": {},
     "output_type": "display_data"
    }
   ],
   "source": [
    "# In \"freq\" specify the letter for the level of aggregation\n",
    "# year (y), month (m), week (w), day(d)\n",
    "# There are also more advanced options! See documentation\n",
    "\n",
    "financial[\"week\"] = financial[\"date\"].dt.to_period(freq = \"w\")\n",
    "display(financial)"
   ]
  },
  {
   "attachments": {},
   "cell_type": "markdown",
   "metadata": {},
   "source": [
    "<font size = \"5\">\n",
    "\n",
    "Aggregate by period"
   ]
  },
  {
   "cell_type": "code",
   "execution_count": 22,
   "metadata": {},
   "outputs": [
    {
     "data": {
      "text/html": [
       "<div>\n",
       "<style scoped>\n",
       "    .dataframe tbody tr th:only-of-type {\n",
       "        vertical-align: middle;\n",
       "    }\n",
       "\n",
       "    .dataframe tbody tr th {\n",
       "        vertical-align: top;\n",
       "    }\n",
       "\n",
       "    .dataframe thead th {\n",
       "        text-align: right;\n",
       "    }\n",
       "</style>\n",
       "<table border=\"1\" class=\"dataframe\">\n",
       "  <thead>\n",
       "    <tr style=\"text-align: right;\">\n",
       "      <th></th>\n",
       "      <th>sp500_mean</th>\n",
       "    </tr>\n",
       "    <tr>\n",
       "      <th>date</th>\n",
       "      <th></th>\n",
       "    </tr>\n",
       "  </thead>\n",
       "  <tbody>\n",
       "    <tr>\n",
       "      <th>2018-04-04</th>\n",
       "      <td>2644.69</td>\n",
       "    </tr>\n",
       "    <tr>\n",
       "      <th>2018-04-05</th>\n",
       "      <td>2662.84</td>\n",
       "    </tr>\n",
       "    <tr>\n",
       "      <th>2018-04-06</th>\n",
       "      <td>2604.47</td>\n",
       "    </tr>\n",
       "    <tr>\n",
       "      <th>2018-04-09</th>\n",
       "      <td>2613.16</td>\n",
       "    </tr>\n",
       "    <tr>\n",
       "      <th>2018-04-10</th>\n",
       "      <td>2656.87</td>\n",
       "    </tr>\n",
       "    <tr>\n",
       "      <th>...</th>\n",
       "      <td>...</td>\n",
       "    </tr>\n",
       "    <tr>\n",
       "      <th>2023-03-29</th>\n",
       "      <td>4027.81</td>\n",
       "    </tr>\n",
       "    <tr>\n",
       "      <th>2023-03-30</th>\n",
       "      <td>4050.83</td>\n",
       "    </tr>\n",
       "    <tr>\n",
       "      <th>2023-03-31</th>\n",
       "      <td>4109.31</td>\n",
       "    </tr>\n",
       "    <tr>\n",
       "      <th>2023-04-03</th>\n",
       "      <td>4124.51</td>\n",
       "    </tr>\n",
       "    <tr>\n",
       "      <th>2023-04-04</th>\n",
       "      <td>4100.60</td>\n",
       "    </tr>\n",
       "  </tbody>\n",
       "</table>\n",
       "<p>1305 rows × 1 columns</p>\n",
       "</div>"
      ],
      "text/plain": [
       "            sp500_mean\n",
       "date                  \n",
       "2018-04-04     2644.69\n",
       "2018-04-05     2662.84\n",
       "2018-04-06     2604.47\n",
       "2018-04-09     2613.16\n",
       "2018-04-10     2656.87\n",
       "...                ...\n",
       "2023-03-29     4027.81\n",
       "2023-03-30     4050.83\n",
       "2023-03-31     4109.31\n",
       "2023-04-03     4124.51\n",
       "2023-04-04     4100.60\n",
       "\n",
       "[1305 rows x 1 columns]"
      ]
     },
     "metadata": {},
     "output_type": "display_data"
    }
   ],
   "source": [
    "# Group on the period column\n",
    "# We use a wrapper () to split the command into multiple lines\n",
    "# We could also use escape characters \\ instead\n",
    "\n",
    "weeklydata = (financial\n",
    "              .groupby(\"date\") \n",
    "              .agg( sp500_mean = (\"sp500\",\"mean\")))\n",
    "\n",
    "display(weeklydata)              "
   ]
  },
  {
   "attachments": {},
   "cell_type": "markdown",
   "metadata": {},
   "source": [
    "<font size = \"5\">\n",
    "\n",
    "Try it yourself!\n",
    "\n",
    "- Practice ```pd.to_datetime()```\n",
    "- Parse the column \"data_ex3\"\n",
    "- Take a close look at the formatting\n",
    "\n",
    "HINT: Refer to the table of wildcards <br>\n",
    " in the previous section\n"
   ]
  },
  {
   "cell_type": "code",
   "execution_count": 23,
   "metadata": {},
   "outputs": [
    {
     "data": {
      "text/plain": [
       "0      2018-04-04\n",
       "1      2018-04-05\n",
       "2      2018-04-06\n",
       "3      2018-04-09\n",
       "4      2018-04-10\n",
       "          ...    \n",
       "1300   2023-03-29\n",
       "1301   2023-03-30\n",
       "1302   2023-03-31\n",
       "1303   2023-04-03\n",
       "1304   2023-04-04\n",
       "Name: date_ex3, Length: 1305, dtype: datetime64[ns]"
      ]
     },
     "metadata": {},
     "output_type": "display_data"
    }
   ],
   "source": [
    "# Write your own code\n",
    "date3 = pd.to_datetime(financial[\"date_ex3\"], format = \"%b-%d, %y\")\n",
    "\n",
    "display(date3)  "
   ]
  },
  {
   "cell_type": "markdown",
   "metadata": {},
   "source": [
    "<font size = \"5\">\n",
    "\n",
    "Try it yourself!\n",
    "\n",
    "- Compute an aggregate dataset which computes the standard <br>\n",
    "deviation of the S&P 500 at the weekly level.\n",
    "- Generate a line plot with your results\n"
   ]
  },
  {
   "cell_type": "code",
   "execution_count": 25,
   "metadata": {},
   "outputs": [
    {
     "data": {
      "text/plain": [
       "[<matplotlib.lines.Line2D at 0x1621c4fd0>]"
      ]
     },
     "execution_count": 25,
     "metadata": {},
     "output_type": "execute_result"
    },
    {
     "data": {
      "image/png": "[encoded data removed]",
      "text/plain": [
       "<Figure size 432x288 with 1 Axes>"
      ]
     },
     "metadata": {
      "needs_background": "light"
     },
     "output_type": "display_data"
    }
   ],
   "source": [
    "week_config = pd.Grouper(key = \"date\",freq = \"w\")\n",
    "\n",
    "weekly_data = financial.groupby(week_config).agg(std_weekly = (\"sp500\",\"std\")).reset_index()\n",
    "\n",
    "plt.plot(\"date\",\"std_weekly\",\n",
    "         data = weekly_data.sort_values(\"date\",ascending = True))"
   ]
  },
  {
   "attachments": {},
   "cell_type": "markdown",
   "metadata": {},
   "source": [
    "<font size = \"5\">\n",
    "\n"
   ]
  },
  {
   "attachments": {},
   "cell_type": "markdown",
   "metadata": {},
   "source": [
    "# <span style=\"color:darkblue\"> IV. Additional Material </span>"
   ]
  },
  {
   "attachments": {},
   "cell_type": "markdown",
   "metadata": {},
   "source": [
    "<font size = \"5\">\n",
    "\n",
    "Full list of wild cards:\n",
    "\n",
    "- More fine-grained, e.g. microseconds, etc.\n",
    "- Other formats, e.g. time zone, \"AM/PM\", etc.\n",
    "\n",
    "https://www.w3schools.com/python/python_datetime.asp"
   ]
  }
 ],
 "metadata": {
  "kernelspec": {
   "display_name": "base",
   "language": "python",
   "name": "python3"
  },
  "language_info": {
   "codemirror_mode": {
    "name": "ipython",
    "version": 3
   },
   "file_extension": ".py",
   "mimetype": "text/x-python",
   "name": "python",
   "nbconvert_exporter": "python",
   "pygments_lexer": "ipython3",
   "version": "3.10.2"
  },
  "orig_nbformat": 4
 },
 "nbformat": 4,
 "nbformat_minor": 2
}
